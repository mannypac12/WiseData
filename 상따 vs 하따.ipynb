{
 "cells": [
  {
   "cell_type": "code",
   "execution_count": 101,
   "metadata": {},
   "outputs": [],
   "source": [
    "import pandas as pd \n",
    "import numpy as np \n",
    "from FileOpener.CSVReader.CSVReader import CSVReader as csv\n",
    "from dateutil.relativedelta import relativedelta"
   ]
  },
  {
   "cell_type": "code",
   "execution_count": 102,
   "metadata": {},
   "outputs": [],
   "source": [
    "directory = 'CSVFile/Price/Korea/Stocks'\n",
    "\n",
    "kse_price = csv.price_reader('KOSPI_FROM_1998_close.csv', directory)"
   ]
  },
  {
   "cell_type": "code",
   "execution_count": 103,
   "metadata": {},
   "outputs": [],
   "source": [
    "from FileOpener.backtester import FinancialBacktest"
   ]
  },
  {
   "cell_type": "code",
   "execution_count": 104,
   "metadata": {},
   "outputs": [
    {
     "name": "stderr",
     "output_type": "stream",
     "text": [
      "D:\\Udemy_Course\\TradingDev\\WiseData\\FileOpener\\backtester.py:23: SettingWithCopyWarning: \n",
      "A value is trying to be set on a copy of a slice from a DataFrame.\n",
      "Try using .loc[row_indexer,col_indexer] = value instead\n",
      "\n",
      "See the caveats in the documentation: http://pandas.pydata.org/pandas-docs/stable/indexing.html#indexing-view-versus-copy\n",
      "  ret.loc[:'1998-05-23'][ret.loc[:'1998-05-23'] > 1.08] = 1.08\n",
      "C:\\Users\\DELL\\Anaconda3\\lib\\site-packages\\pandas\\core\\frame.py:3160: SettingWithCopyWarning: \n",
      "A value is trying to be set on a copy of a slice from a DataFrame\n",
      "\n",
      "See the caveats in the documentation: http://pandas.pydata.org/pandas-docs/stable/indexing.html#indexing-view-versus-copy\n",
      "  self._where(-key, value, inplace=True)\n",
      "D:\\Udemy_Course\\TradingDev\\WiseData\\FileOpener\\backtester.py:24: SettingWithCopyWarning: \n",
      "A value is trying to be set on a copy of a slice from a DataFrame.\n",
      "Try using .loc[row_indexer,col_indexer] = value instead\n",
      "\n",
      "See the caveats in the documentation: http://pandas.pydata.org/pandas-docs/stable/indexing.html#indexing-view-versus-copy\n",
      "  ret.loc['1998-05-25':'2005-03-25'][ret.loc['1998-05-25':'2005-03-25'] > 1.12] = 1.12\n",
      "D:\\Udemy_Course\\TradingDev\\WiseData\\FileOpener\\backtester.py:25: SettingWithCopyWarning: \n",
      "A value is trying to be set on a copy of a slice from a DataFrame.\n",
      "Try using .loc[row_indexer,col_indexer] = value instead\n",
      "\n",
      "See the caveats in the documentation: http://pandas.pydata.org/pandas-docs/stable/indexing.html#indexing-view-versus-copy\n",
      "  ret.loc['2005-03-28':'2015-06-14'][ret.loc['2005-03-28':'2015-06-14'] > 1.15] = 1.15\n",
      "D:\\Udemy_Course\\TradingDev\\WiseData\\FileOpener\\backtester.py:26: SettingWithCopyWarning: \n",
      "A value is trying to be set on a copy of a slice from a DataFrame.\n",
      "Try using .loc[row_indexer,col_indexer] = value instead\n",
      "\n",
      "See the caveats in the documentation: http://pandas.pydata.org/pandas-docs/stable/indexing.html#indexing-view-versus-copy\n",
      "  ret.loc['2015-06-15':][ret.loc['2015-06-15':] > 1.3] = 1.3\n"
     ]
    }
   ],
   "source": [
    "kse_return = FinancialBacktest(kse_price).ret()"
   ]
  },
  {
   "cell_type": "markdown",
   "metadata": {},
   "source": [
    "## KOSPI 상따와 하따\n",
    "\n",
    "### 기간: 2015.06.15 이후\n",
    "\n",
    "#### 하한가가 난 종목을 10일간 보유할 시 수익률"
   ]
  },
  {
   "cell_type": "code",
   "execution_count": 105,
   "metadata": {},
   "outputs": [],
   "source": [
    "kse_down_30 = kse_return.loc['2015-06-15':] < 0.71\n",
    "kse_up_30 = kse_return.loc['2015-06-15':] > 1.29"
   ]
  },
  {
   "cell_type": "markdown",
   "metadata": {},
   "source": [
    "## Cactch the signal"
   ]
  },
  {
   "cell_type": "code",
   "execution_count": 130,
   "metadata": {},
   "outputs": [],
   "source": [
    "def test_materials(test_filter):\n",
    "    \n",
    "    test_data = {}\n",
    "    \n",
    "    for key in test_filter.columns:\n",
    "\n",
    "        temp = test_filter[key][test_filter[key]==True].index\n",
    "\n",
    "        if len(temp) == 0: \n",
    "            pass\n",
    "        else:\n",
    "            test_data[key] = temp\n",
    "    \n",
    "    return test_data\n",
    "\n",
    "def backtest(sigal_f_stock, ret_data):\n",
    "    \n",
    "    ret = []\n",
    "    \n",
    "    for key, value in sigal_f_stock.items():\n",
    "    \n",
    "        for date in value:\n",
    "            from_date = date + relativedelta(days=1)\n",
    "            to_date = date + relativedelta(days=10)\n",
    "            ret.append((ret_data[key].loc[from_date:to_date]).prod())\n",
    "    \n",
    "    return np.array(ret)"
   ]
  },
  {
   "cell_type": "code",
   "execution_count": 131,
   "metadata": {},
   "outputs": [],
   "source": [
    "down_signal = test_materials(kse_down_30)\n",
    "ret_signal = backtest(down_signal, kse_return)"
   ]
  },
  {
   "cell_type": "code",
   "execution_count": 148,
   "metadata": {},
   "outputs": [],
   "source": [
    "win_rate = (ret_signal > 1).sum() / ret_signal.shape[0]\n",
    "\n",
    "med_rt = (np.median(ret_signal) - 1)\n",
    "avg_rt = (ret_signal.mean()-1)\n",
    "min_rt = (ret_signal.min()-1)\n",
    "max_rt = (ret_signal.max()-1)"
   ]
  },
  {
   "cell_type": "markdown",
   "metadata": {},
   "source": [
    "## 하따 시 수익률"
   ]
  },
  {
   "cell_type": "code",
   "execution_count": 151,
   "metadata": {},
   "outputs": [
    {
     "name": "stdout",
     "output_type": "stream",
     "text": [
      "승률:  27.62%\n",
      "매매 신호:  105\n",
      "중위수익률:  -10.00%\n",
      "평균 수익률:  -13.59%\n",
      "최소 수익률:  -93.06%\n",
      "최대 수익률:  87.23%\n"
     ]
    }
   ],
   "source": [
    "print(\"승률: \", '{:2.2%}'.format(win_rate))\n",
    "print(\"매매 신호: \", ret_signal.shape[0])\n",
    "print(\"중위수익률: \", '{:2.2%}'.format(med_rt))\n",
    "print(\"평균 수익률: \", '{:2.2%}'.format(avg_rt))\n",
    "print(\"최소 수익률: \", '{:2.2%}'.format(min_rt))\n",
    "print(\"최대 수익률: \", '{:2.2%}'.format(max_rt))"
   ]
  },
  {
   "cell_type": "code",
   "execution_count": 134,
   "metadata": {},
   "outputs": [],
   "source": [
    "up_signal = test_materials(kse_up_30)\n",
    "up_ret_signal = backtest(up_signal, kse_return)"
   ]
  },
  {
   "cell_type": "code",
   "execution_count": 136,
   "metadata": {},
   "outputs": [
    {
     "data": {
      "text/plain": [
       "803"
      ]
     },
     "execution_count": 136,
     "metadata": {},
     "output_type": "execute_result"
    }
   ],
   "source": []
  },
  {
   "cell_type": "code",
   "execution_count": 146,
   "metadata": {},
   "outputs": [],
   "source": [
    "up_win_rate = (up_ret_signal > 1).sum() / up_ret_signal.shape[0]\n",
    "\n",
    "up_med_rt = (np.median(up_ret_signal) - 1)\n",
    "up_avg_rt = (up_ret_signal.mean()-1)\n",
    "up_min_rt = (up_ret_signal.min()-1)\n",
    "up_max_rt = (up_ret_signal.max()-1)"
   ]
  },
  {
   "cell_type": "markdown",
   "metadata": {},
   "source": [
    "## 상따 시 수익률"
   ]
  },
  {
   "cell_type": "code",
   "execution_count": 150,
   "metadata": {},
   "outputs": [
    {
     "name": "stdout",
     "output_type": "stream",
     "text": [
      "매매 신호:  803\n",
      "승률: 42.22%\n",
      "평균 수익률:  3.61%\n",
      "중위 수익률:  -3.15%\n",
      "최소 수익률:  -93.44%\n",
      "최대 수익률:  310.26%\n"
     ]
    }
   ],
   "source": [
    "print(\"매매 신호: \", up_ret_signal.shape[0])\n",
    "print(\"승률:\", '{:2.2%}'.format(up_win_rate))\n",
    "print(\"평균 수익률: \", '{:2.2%}'.format(up_avg_rt))\n",
    "print(\"중위 수익률: \", '{:2.2%}'.format(up_med_rt))\n",
    "print(\"최소 수익률: \",'{:2.2%}'.format(up_min_rt))\n",
    "print(\"최대 수익률: \",'{:2.2%}'.format(up_max_rt))"
   ]
  }
 ],
 "metadata": {
  "kernelspec": {
   "display_name": "Python [conda env:Anaconda3]",
   "language": "python",
   "name": "conda-env-Anaconda3-py"
  },
  "language_info": {
   "codemirror_mode": {
    "name": "ipython",
    "version": 3
   },
   "file_extension": ".py",
   "mimetype": "text/x-python",
   "name": "python",
   "nbconvert_exporter": "python",
   "pygments_lexer": "ipython3",
   "version": "3.6.5"
  }
 },
 "nbformat": 4,
 "nbformat_minor": 2
}
