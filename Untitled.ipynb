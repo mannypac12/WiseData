{
 "cells": [
  {
   "cell_type": "code",
   "execution_count": 1,
   "metadata": {},
   "outputs": [],
   "source": [
    "import pandas as pd\n",
    "import numpy as np"
   ]
  },
  {
   "cell_type": "code",
   "execution_count": 2,
   "metadata": {},
   "outputs": [],
   "source": [
    "directory = 'CSVFile/FinancialData/Korea'\n",
    "filename = 'DIV_OR_NOT_KSE.csv'\n",
    "\n",
    "test = pd.read_csv(f\"{directory}/{filename}\", skiprows = 1)"
   ]
  },
  {
   "cell_type": "code",
   "execution_count": 13,
   "metadata": {},
   "outputs": [
    {
     "data": {
      "text/plain": [
       "18"
      ]
     },
     "execution_count": 13,
     "metadata": {},
     "output_type": "execute_result"
    }
   ],
   "source": [
    "(test['Code'].str.contains('AS')).sum()"
   ]
  },
  {
   "cell_type": "code",
   "execution_count": 14,
   "metadata": {},
   "outputs": [
    {
     "data": {
      "text/plain": [
       "0     2000-12-31\n",
       "1     2001-12-31\n",
       "2     2002-12-31\n",
       "3     2003-12-31\n",
       "4     2004-12-31\n",
       "5     2005-12-31\n",
       "6     2006-12-31\n",
       "7     2007-12-31\n",
       "8     2008-12-31\n",
       "9     2009-12-31\n",
       "10    2010-12-31\n",
       "11    2011-12-31\n",
       "12    2012-12-31\n",
       "13    2013-12-31\n",
       "14    2014-12-31\n",
       "15    2015-12-31\n",
       "16    2016-12-31\n",
       "17    2017-12-31\n",
       "Name: Code, dtype: object"
      ]
     },
     "execution_count": 14,
     "metadata": {},
     "output_type": "execute_result"
    }
   ],
   "source": [
    "test['Code'].str.replace('AS', '-12-31')"
   ]
  },
  {
   "cell_type": "code",
   "execution_count": 15,
   "metadata": {},
   "outputs": [
    {
     "name": "stdout",
     "output_type": "stream",
     "text": [
      "1\n",
      "2\n",
      "3\n"
     ]
    }
   ],
   "source": [
    "for i in range(1,5):\n",
    "    print(i)"
   ]
  },
  {
   "cell_type": "code",
   "execution_count": null,
   "metadata": {},
   "outputs": [],
   "source": [
    "dte = ''"
   ]
  }
 ],
 "metadata": {
  "kernelspec": {
   "display_name": "Python 3",
   "language": "python",
   "name": "python3"
  },
  "language_info": {
   "codemirror_mode": {
    "name": "ipython",
    "version": 3
   },
   "file_extension": ".py",
   "mimetype": "text/x-python",
   "name": "python",
   "nbconvert_exporter": "python",
   "pygments_lexer": "ipython3",
   "version": "3.6.5"
  }
 },
 "nbformat": 4,
 "nbformat_minor": 2
}
