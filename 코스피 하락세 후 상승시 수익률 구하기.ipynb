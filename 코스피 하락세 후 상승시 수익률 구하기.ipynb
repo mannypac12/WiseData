{
 "cells": [
  {
   "cell_type": "code",
   "execution_count": 3,
   "metadata": {},
   "outputs": [
    {
     "name": "stdout",
     "output_type": "stream",
     "text": [
      "{'brk_price':                 코스피  코스피 200      코스닥  코스닥 대형주\n",
      "D A T E                                       \n",
      "1999-12-28      NaN      NaN      NaN      NaN\n",
      "2000-01-04      NaN      NaN      NaN      NaN\n",
      "2000-01-05      NaN      NaN      NaN      NaN\n",
      "2000-01-06      NaN      NaN      NaN      NaN\n",
      "2000-01-07      NaN      NaN      NaN      NaN\n",
      "2000-01-10      NaN      NaN      NaN      NaN\n",
      "2000-01-11      NaN      NaN      NaN      NaN\n",
      "2000-01-12      NaN      NaN      NaN      NaN\n",
      "2000-01-13      NaN      NaN      NaN      NaN\n",
      "2000-01-14      NaN      NaN      NaN      NaN\n",
      "2000-01-17      NaN      NaN      NaN      NaN\n",
      "2000-01-18      NaN      NaN      NaN      NaN\n",
      "2000-01-19      NaN      NaN      NaN      NaN\n",
      "2000-01-20      NaN      NaN      NaN      NaN\n",
      "2000-01-21      NaN      NaN      NaN      NaN\n",
      "2000-01-24      NaN      NaN      NaN      NaN\n",
      "2000-01-25      NaN      NaN      NaN      NaN\n",
      "2000-01-26      NaN      NaN      NaN      NaN\n",
      "2000-01-27      NaN      NaN      NaN      NaN\n",
      "2000-01-28  1059.04   133.66  2670.50      NaN\n",
      "2000-01-31  1059.04   133.66  2670.50      NaN\n",
      "2000-02-01  1013.95   124.11  2670.50      NaN\n",
      "2000-02-02  1013.95   124.11  2670.50      NaN\n",
      "2000-02-03   992.31   124.11  2423.90      NaN\n",
      "2000-02-07   992.31   124.11  2423.90      NaN\n",
      "2000-02-08   992.31   123.85  2481.10      NaN\n",
      "2000-02-09   992.31   123.85  2481.10      NaN\n",
      "2000-02-10   992.31   123.85  2481.10      NaN\n",
      "2000-02-11   992.31   123.85  2620.80      NaN\n",
      "2000-02-14   992.31   123.85  2686.10      NaN\n",
      "...             ...      ...      ...      ...\n",
      "2018-11-15  2161.71   279.40   744.15  1679.36\n",
      "2018-11-16  2161.71   279.40   744.15  1679.36\n",
      "2018-11-19  2147.30   277.31   740.35  1663.56\n",
      "2018-11-20  2119.19   274.88   727.07  1638.37\n",
      "2018-11-21  2109.97   274.88   702.13  1587.32\n",
      "2018-11-22  2109.97   274.88   702.13  1587.32\n",
      "2018-11-23  2109.97   274.88   702.13  1587.32\n",
      "2018-11-26  2109.97   274.88   702.13  1587.32\n",
      "2018-11-27  2109.97   274.88   702.13  1590.66\n",
      "2018-11-28  2109.97   274.88   702.99  1594.19\n",
      "2018-11-29  2133.95   277.08   709.69  1613.31\n",
      "2018-11-30  2133.95   277.08   709.69  1613.31\n",
      "2018-12-03  2133.95   277.08   709.69  1613.31\n",
      "2018-12-04  2133.95   277.08   709.69  1613.31\n",
      "2018-12-05  2133.95   277.08   709.69  1613.31\n",
      "2018-12-06  2133.95   277.08   709.69  1613.31\n",
      "2018-12-07  2133.95   277.08   709.69  1613.31\n",
      "2018-12-10  2133.95   277.08   709.69  1613.31\n",
      "2018-12-11  2133.95   277.08   709.69  1613.31\n",
      "2018-12-12  2133.95   277.08   709.69  1613.31\n",
      "2018-12-13  2133.95   277.08   709.69  1613.31\n",
      "2018-12-14  2133.95   277.08   709.69  1613.31\n",
      "2018-12-17  2133.95   277.08   709.69  1613.31\n",
      "2018-12-18  2133.95   277.08   709.69  1613.31\n",
      "2018-12-19  2133.95   277.08   709.69  1613.31\n",
      "2018-12-20  2133.95   277.08   709.69  1613.31\n",
      "2018-12-21  2133.95   277.08   709.69  1613.31\n",
      "2018-12-24  2133.95   277.08   709.69  1613.31\n",
      "2018-12-26  2133.95   277.08   709.69  1613.31\n",
      "2018-12-27      NaN      NaN      NaN      NaN\n",
      "\n",
      "[4690 rows x 4 columns], 'brk_price_signal':               코스피  코스피 200    코스닥  코스닥 대형주\n",
      "D A T E                                   \n",
      "1999-12-28  False    False  False    False\n",
      "2000-01-04  False    False  False    False\n",
      "2000-01-05  False    False  False    False\n",
      "2000-01-06  False    False  False    False\n",
      "2000-01-07  False    False  False    False\n",
      "2000-01-10  False    False  False    False\n",
      "2000-01-11  False    False  False    False\n",
      "2000-01-12  False    False  False    False\n",
      "2000-01-13  False    False  False    False\n",
      "2000-01-14  False    False  False    False\n",
      "2000-01-17  False    False  False    False\n",
      "2000-01-18  False    False  False    False\n",
      "2000-01-19  False    False  False    False\n",
      "2000-01-20  False    False  False    False\n",
      "2000-01-21  False    False  False    False\n",
      "2000-01-24  False    False  False    False\n",
      "2000-01-25  False    False  False    False\n",
      "2000-01-26  False    False  False    False\n",
      "2000-01-27  False    False  False    False\n",
      "2000-01-28  False    False  False    False\n",
      "2000-01-31  False    False  False    False\n",
      "2000-02-01  False    False  False    False\n",
      "2000-02-02  False    False  False    False\n",
      "2000-02-03  False    False  False    False\n",
      "2000-02-07  False    False  False    False\n",
      "2000-02-08  False    False  False    False\n",
      "2000-02-09  False    False  False    False\n",
      "2000-02-10  False    False  False    False\n",
      "2000-02-11  False    False   True    False\n",
      "2000-02-14  False    False  False    False\n",
      "...           ...      ...    ...      ...\n",
      "2018-11-15  False    False  False    False\n",
      "2018-11-16  False    False  False    False\n",
      "2018-11-19  False    False  False    False\n",
      "2018-11-20  False    False  False    False\n",
      "2018-11-21  False    False  False    False\n",
      "2018-11-22  False    False  False    False\n",
      "2018-11-23  False    False  False    False\n",
      "2018-11-26  False    False  False    False\n",
      "2018-11-27  False    False  False     True\n",
      "2018-11-28  False    False  False    False\n",
      "2018-11-29  False    False  False    False\n",
      "2018-11-30  False    False  False    False\n",
      "2018-12-03  False    False  False    False\n",
      "2018-12-04  False    False  False    False\n",
      "2018-12-05  False    False  False    False\n",
      "2018-12-06  False    False  False    False\n",
      "2018-12-07  False    False  False    False\n",
      "2018-12-10  False    False  False    False\n",
      "2018-12-11  False    False  False    False\n",
      "2018-12-12  False    False  False    False\n",
      "2018-12-13  False    False  False    False\n",
      "2018-12-14  False    False  False    False\n",
      "2018-12-17  False    False  False    False\n",
      "2018-12-18  False    False  False    False\n",
      "2018-12-19  False    False  False    False\n",
      "2018-12-20  False    False  False    False\n",
      "2018-12-21  False    False  False    False\n",
      "2018-12-24  False    False  False    False\n",
      "2018-12-26  False    False  False    False\n",
      "2018-12-27  False    False  False    False\n",
      "\n",
      "[4690 rows x 4 columns]}\n"
     ]
    }
   ],
   "source": [
    "import dataCleanser as dtc"
   ]
  },
  {
   "cell_type": "markdown",
   "metadata": {},
   "source": [
    "Price Loading"
   ]
  },
  {
   "cell_type": "code",
   "execution_count": 5,
   "metadata": {},
   "outputs": [],
   "source": [
    "Index_data = dtc.PriceDataCleanser(file='Index.xlsm')"
   ]
  },
  {
   "cell_type": "markdown",
   "metadata": {},
   "source": [
    "## 조건\n",
    "\n",
    "### 1. 이평선 120일 > 50일 > 10일\n",
    "### 2. 장대양봉\n",
    "### 3. 전날 이격 확대"
   ]
  },
  {
   "cell_type": "code",
   "execution_count": 6,
   "metadata": {},
   "outputs": [],
   "source": [
    "## 이평선\n",
    "\n",
    "SMV_120 = Index_data.SMPmovAvg(120)\n",
    "SMV_50= Index_data.SMPmovAvg(50)\n",
    "SMV_10= Index_data.SMPmovAvg(10)\n",
    "\n",
    "SMV_Down = (SMV_120 > SMV_50) & (SMV_50 > SMV_10)"
   ]
  },
  {
   "cell_type": "markdown",
   "metadata": {},
   "source": [
    "## 1. 이평선 하락 정배열"
   ]
  },
  {
   "cell_type": "code",
   "execution_count": 9,
   "metadata": {},
   "outputs": [
    {
     "data": {
      "text/plain": [
       "D A T E\n",
       "1999-12-31      0.0\n",
       "2000-12-31     99.0\n",
       "2001-12-31     44.0\n",
       "2002-12-31     87.0\n",
       "2003-12-31     72.0\n",
       "2004-12-31     50.0\n",
       "2005-12-31      0.0\n",
       "2006-12-31     26.0\n",
       "2007-12-31      0.0\n",
       "2008-12-31    154.0\n",
       "2009-12-31     19.0\n",
       "2010-12-31      0.0\n",
       "2011-12-31     55.0\n",
       "2012-12-31     53.0\n",
       "2013-12-31     36.0\n",
       "2014-12-31     54.0\n",
       "2015-12-31     65.0\n",
       "2016-12-31     40.0\n",
       "2017-12-31      0.0\n",
       "2018-12-31    145.0\n",
       "Freq: A-DEC, Name: 코스피, dtype: float64"
      ]
     },
     "execution_count": 9,
     "metadata": {},
     "output_type": "execute_result"
    }
   ],
   "source": [
    "import pandas as pd\n",
    "\n",
    "SMV_Down['코스피'].resample('A').sum().sort()"
   ]
  },
  {
   "cell_type": "markdown",
   "metadata": {},
   "source": [
    "## 2. 장대양봉\n",
    "\n",
    "### 조건\n",
    "\n",
    "#### 가. 양봉이어야 할것\n",
    "#### 나. 장대여야 할 것\n",
    "         - 장대의 기준. 기존 "
   ]
  },
  {
   "cell_type": "code",
   "execution_count": 11,
   "metadata": {},
   "outputs": [],
   "source": [
    "## 양봉\n",
    "red_candle = Index_data.candle()\n",
    "## 장대양봉\n",
    "candle_size = Index_data.candle_size()"
   ]
  },
  {
   "cell_type": "code",
   "execution_count": 13,
   "metadata": {
    "scrolled": true
   },
   "outputs": [
    {
     "data": {
      "text/plain": [
       "D A T E\n",
       "1999-12-31    True\n",
       "2000-12-31     114\n",
       "2001-12-31     131\n",
       "2002-12-31     122\n",
       "2003-12-31     123\n",
       "2004-12-31     137\n",
       "2005-12-31     129\n",
       "2006-12-31     123\n",
       "2007-12-31     126\n",
       "2008-12-31     114\n",
       "2009-12-31     124\n",
       "2010-12-31     132\n",
       "2011-12-31     118\n",
       "2012-12-31     128\n",
       "2013-12-31     114\n",
       "2014-12-31     111\n",
       "2015-12-31     108\n",
       "2016-12-31     117\n",
       "2017-12-31     107\n",
       "2018-12-31     118\n",
       "Freq: A-DEC, Name: 코스피, dtype: object"
      ]
     },
     "execution_count": 13,
     "metadata": {},
     "output_type": "execute_result"
    }
   ],
   "source": [
    "red_candle['코스피'].resample('A').sum()"
   ]
  },
  {
   "cell_type": "markdown",
   "metadata": {},
   "source": [
    "## 장대양봉 구하는 공식\n",
    "## 30일 거래일 중 z-score 1.96 이상"
   ]
  },
  {
   "cell_type": "code",
   "execution_count": 38,
   "metadata": {
    "scrolled": true
   },
   "outputs": [
    {
     "data": {
      "text/plain": [
       "D A T E\n",
       "1999-12-31     0.0\n",
       "2000-12-31    16.0\n",
       "2001-12-31    19.0\n",
       "2002-12-31    21.0\n",
       "2003-12-31    14.0\n",
       "2004-12-31    19.0\n",
       "2005-12-31    18.0\n",
       "2006-12-31    20.0\n",
       "2007-12-31    24.0\n",
       "2008-12-31    25.0\n",
       "2009-12-31    15.0\n",
       "2010-12-31    19.0\n",
       "2011-12-31    21.0\n",
       "2012-12-31    15.0\n",
       "2013-12-31    18.0\n",
       "2014-12-31    20.0\n",
       "2015-12-31    22.0\n",
       "2016-12-31    16.0\n",
       "2017-12-31    18.0\n",
       "2018-12-31    22.0\n",
       "Freq: A-DEC, Name: 코스피, dtype: float64"
      ]
     },
     "execution_count": 38,
     "metadata": {},
     "output_type": "execute_result"
    }
   ],
   "source": [
    "import scipy\n",
    "\n",
    "zscore = lambda x: (x - scipy.stats.nanmean(x)) / scipy.stats.nanstd(x)\n",
    "\n",
    "\n",
    "def zscore(data, windows=30):\n",
    "    \n",
    "    mean = data.rolling(windows).mean()\n",
    "    std = data.rolling(windows).std()\n",
    "    \n",
    "    return (data - mean) / std\n",
    "\n",
    "\n",
    "red_score = zscore(candle_size['코스피']).abs() > 1.69\n",
    "red_score.resample('A').sum() "
   ]
  },
  {
   "cell_type": "markdown",
   "metadata": {},
   "source": [
    "## 이격 확대\n",
    "\n",
    "### 30일 거래일 중 z-score 1.96 이상"
   ]
  },
  {
   "cell_type": "code",
   "execution_count": 39,
   "metadata": {},
   "outputs": [
    {
     "data": {
      "text/plain": [
       "D A T E\n",
       "2000-01-07     95.243495\n",
       "2000-01-10     99.882032\n",
       "2000-01-11    101.984450\n",
       "2000-01-12     99.107804\n",
       "2000-01-13     99.005241\n",
       "2000-01-14     99.407796\n",
       "2000-01-17    102.026692\n",
       "2000-01-18    102.960433\n",
       "2000-01-19    100.913869\n",
       "2000-01-20     98.582390\n",
       "2000-01-21     97.237698\n",
       "2000-01-24     98.213491\n",
       "2000-01-25     98.223141\n",
       "2000-01-26     97.969436\n",
       "2000-01-27    100.181361\n",
       "2000-01-28    103.379567\n",
       "2000-01-31    103.234359\n",
       "2000-02-01    103.647807\n",
       "2000-02-02    101.089108\n",
       "2000-02-03    100.917353\n",
       "2000-02-07    102.660157\n",
       "2000-02-08    102.700072\n",
       "2000-02-09    101.582778\n",
       "2000-02-10    100.103588\n",
       "2000-02-11    102.500104\n",
       "2000-02-14     97.842913\n",
       "2000-02-15     97.832489\n",
       "2000-02-16     95.983850\n",
       "2000-02-17     99.265397\n",
       "2000-02-18    101.277793\n",
       "                 ...    \n",
       "2018-11-14     99.601960\n",
       "2018-11-15    100.446706\n",
       "2018-11-16    100.860754\n",
       "2018-11-19    100.791724\n",
       "2018-11-20     99.820259\n",
       "2018-11-21     99.450199\n",
       "2018-11-22     99.741030\n",
       "2018-11-23     99.799559\n",
       "2018-11-26    100.438976\n",
       "2018-11-27    101.065622\n",
       "2018-11-28    101.180735\n",
       "2018-11-29    101.983418\n",
       "2018-11-30    100.785879\n",
       "2018-12-03    101.034261\n",
       "2018-12-04    100.595241\n",
       "2018-12-05     99.507508\n",
       "2018-12-06     99.619143\n",
       "2018-12-07     99.202824\n",
       "2018-12-10     98.608110\n",
       "2018-12-11     99.403817\n",
       "2018-12-12    100.765160\n",
       "2018-12-13    101.130336\n",
       "2018-12-14    101.196995\n",
       "2018-12-17     99.850456\n",
       "2018-12-18     99.324227\n",
       "2018-12-19    100.166041\n",
       "2018-12-20     99.777209\n",
       "2018-12-21     99.746459\n",
       "2018-12-24     99.587887\n",
       "2018-12-26     98.644232\n",
       "Name: 코스피, Length: 4685, dtype: float64"
      ]
     },
     "execution_count": 39,
     "metadata": {},
     "output_type": "execute_result"
    }
   ],
   "source": [
    "mva_divg = Index_data.MVA_divergence().head()"
   ]
  },
  {
   "cell_type": "code",
   "execution_count": 41,
   "metadata": {},
   "outputs": [],
   "source": [
    "mvg_div_t = zscore(mva_divg['코스피']).abs() > 1.69"
   ]
  },
  {
   "cell_type": "code",
   "execution_count": 43,
   "metadata": {},
   "outputs": [
    {
     "data": {
      "text/plain": [
       "D A T E\n",
       "2000-12-31    23.0\n",
       "2001-12-31    25.0\n",
       "2002-12-31    26.0\n",
       "2003-12-31    21.0\n",
       "2004-12-31    22.0\n",
       "2005-12-31    25.0\n",
       "2006-12-31    29.0\n",
       "2007-12-31    27.0\n",
       "2008-12-31    31.0\n",
       "2009-12-31    14.0\n",
       "2010-12-31    23.0\n",
       "2011-12-31    28.0\n",
       "2012-12-31    17.0\n",
       "2013-12-31    27.0\n",
       "2014-12-31    26.0\n",
       "2015-12-31    23.0\n",
       "2016-12-31    17.0\n",
       "2017-12-31    25.0\n",
       "2018-12-31    26.0\n",
       "Freq: A-DEC, Name: 코스피, dtype: float64"
      ]
     },
     "execution_count": 43,
     "metadata": {},
     "output_type": "execute_result"
    }
   ],
   "source": [
    "mvg_div_t.resample('A').sum()"
   ]
  },
  {
   "cell_type": "code",
   "execution_count": 54,
   "metadata": {},
   "outputs": [],
   "source": [
    "## 전날 이격확대\n",
    "# & red_score & red_candle & SMV_Down\n",
    "tr = mvg_div_t.shift(1) & red_score & red_candle['코스피'] & SMV_Down['코스피']"
   ]
  },
  {
   "cell_type": "code",
   "execution_count": 57,
   "metadata": {},
   "outputs": [
    {
     "data": {
      "text/plain": [
       "D A T E\n",
       "1999-12-31    0.0\n",
       "2000-12-31    0.0\n",
       "2001-12-31    0.0\n",
       "2002-12-31    1.0\n",
       "2003-12-31    0.0\n",
       "2004-12-31    0.0\n",
       "2005-12-31    0.0\n",
       "2006-12-31    0.0\n",
       "2007-12-31    0.0\n",
       "2008-12-31    3.0\n",
       "2009-12-31    0.0\n",
       "2010-12-31    0.0\n",
       "2011-12-31    0.0\n",
       "2012-12-31    1.0\n",
       "2013-12-31    0.0\n",
       "2014-12-31    0.0\n",
       "2015-12-31    0.0\n",
       "2016-12-31    0.0\n",
       "2017-12-31    0.0\n",
       "2018-12-31    0.0\n",
       "Freq: A-DEC, Name: 코스피, dtype: float64"
      ]
     },
     "execution_count": 57,
     "metadata": {},
     "output_type": "execute_result"
    }
   ],
   "source": [
    "tr.resample('A').sum()"
   ]
  },
  {
   "cell_type": "code",
   "execution_count": 73,
   "metadata": {},
   "outputs": [
    {
     "data": {
      "text/plain": [
       "D A T E\n",
       "2002-07-23    True\n",
       "2008-09-10    True\n",
       "2008-09-23    True\n",
       "2008-10-28    True\n",
       "2012-07-31    True\n",
       "Name: 코스피, dtype: bool"
      ]
     },
     "execution_count": 73,
     "metadata": {},
     "output_type": "execute_result"
    }
   ],
   "source": [
    "bt_rt = tr[tr == True].index\n",
    "tr[tr == True]"
   ]
  },
  {
   "cell_type": "markdown",
   "metadata": {},
   "source": [
    "## 수익률 (Daily Return)"
   ]
  },
  {
   "cell_type": "code",
   "execution_count": 64,
   "metadata": {},
   "outputs": [],
   "source": [
    "daily_rt = Index_data.daily_price_rt()"
   ]
  },
  {
   "cell_type": "code",
   "execution_count": 81,
   "metadata": {},
   "outputs": [
    {
     "name": "stdout",
     "output_type": "stream",
     "text": [
      "2002년: -9.38\n",
      "2008년: 2.5\n",
      "2008년: -13.14\n",
      "2008년: 12.97\n",
      "2012년: 3.98\n"
     ]
    }
   ],
   "source": [
    "for date in bt_rt:\n",
    "    rt = (daily_rt['코스피'].shift(-1).loc[date:].head(10)).prod() - 1\n",
    "    print(f\"{date.year}년: {round(rt*100, 2)}\")\n",
    "        \n",
    "\n",
    "\n",
    "\n"
   ]
  }
 ],
 "metadata": {
  "kernelspec": {
   "display_name": "Python 3",
   "language": "python",
   "name": "python3"
  },
  "language_info": {
   "codemirror_mode": {
    "name": "ipython",
    "version": 3
   },
   "file_extension": ".py",
   "mimetype": "text/x-python",
   "name": "python",
   "nbconvert_exporter": "python",
   "pygments_lexer": "ipython3",
   "version": "3.6.5"
  }
 },
 "nbformat": 4,
 "nbformat_minor": 2
}
