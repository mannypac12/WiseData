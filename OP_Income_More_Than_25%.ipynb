{
 "cells": [
  {
   "cell_type": "code",
   "execution_count": 3,
   "metadata": {},
   "outputs": [],
   "source": [
    "import pandas as pd\n",
    "import numpy as np\n",
    "import matplotlib as mpl\n",
    "import matplotlib.pyplot as plt\n",
    "from FileOpener.CSVReader.CSVReader import CSVReader as csv"
   ]
  },
  {
   "cell_type": "code",
   "execution_count": 8,
   "metadata": {},
   "outputs": [],
   "source": [
    "price_dir = 'CSVFile/Price/Korea/Stocks'\n",
    "opincome_dir = 'CSVFile/FinancialData/Korea'\n",
    "\n",
    "\n",
    "kdq_price = csv.price_reader(filename='KOSDAQ_FROM_1998_close.csv', directory=price_dir)\n",
    "kse_price = csv.price_reader(filename='KOSDAQ_FROM_1998_close.csv', directory=price_dir)\n",
    "\n",
    "kdq_op_income = csv.financial_reader(filename='OP_INCOME_KDQ.csv', directory=opincome_dir)\n",
    "kse_op_income = csv.financial_reader(filename='OP_INCOME_KSE.csv', directory=opincome_dir)"
   ]
  },
  {
   "cell_type": "markdown",
   "metadata": {},
   "source": [
    "## 재무 데이터 유니버스 선정\n",
    "\n",
    "영업이익 전년대비 25% 상승 이상"
   ]
  },
  {
   "cell_type": "code",
   "execution_count": 27,
   "metadata": {},
   "outputs": [],
   "source": [
    "kdq_op_ic_yoy = kdq_op_income.shift(1).pct_change(periods=4).dropna(axis=0, how='all') > 0.25"
   ]
  },
  {
   "cell_type": "code",
   "execution_count": 28,
   "metadata": {},
   "outputs": [
    {
     "data": {
      "text/html": [
       "<div>\n",
       "<style scoped>\n",
       "    .dataframe tbody tr th:only-of-type {\n",
       "        vertical-align: middle;\n",
       "    }\n",
       "\n",
       "    .dataframe tbody tr th {\n",
       "        vertical-align: top;\n",
       "    }\n",
       "\n",
       "    .dataframe thead th {\n",
       "        text-align: right;\n",
       "    }\n",
       "</style>\n",
       "<table border=\"1\" class=\"dataframe\">\n",
       "  <thead>\n",
       "    <tr style=\"text-align: right;\">\n",
       "      <th></th>\n",
       "      <th>A000250</th>\n",
       "      <th>A000440</th>\n",
       "      <th>A001000</th>\n",
       "      <th>A001540</th>\n",
       "      <th>A001810</th>\n",
       "      <th>A001840</th>\n",
       "      <th>A002230</th>\n",
       "      <th>A002290</th>\n",
       "      <th>A002680</th>\n",
       "      <th>A002800</th>\n",
       "      <th>...</th>\n",
       "      <th>A900280</th>\n",
       "      <th>A900290</th>\n",
       "      <th>A900300</th>\n",
       "      <th>A900310</th>\n",
       "      <th>A900340</th>\n",
       "      <th>A950110</th>\n",
       "      <th>A950130</th>\n",
       "      <th>A950140</th>\n",
       "      <th>A950160</th>\n",
       "      <th>A950170</th>\n",
       "    </tr>\n",
       "    <tr>\n",
       "      <th>Code</th>\n",
       "      <th></th>\n",
       "      <th></th>\n",
       "      <th></th>\n",
       "      <th></th>\n",
       "      <th></th>\n",
       "      <th></th>\n",
       "      <th></th>\n",
       "      <th></th>\n",
       "      <th></th>\n",
       "      <th></th>\n",
       "      <th></th>\n",
       "      <th></th>\n",
       "      <th></th>\n",
       "      <th></th>\n",
       "      <th></th>\n",
       "      <th></th>\n",
       "      <th></th>\n",
       "      <th></th>\n",
       "      <th></th>\n",
       "      <th></th>\n",
       "      <th></th>\n",
       "    </tr>\n",
       "  </thead>\n",
       "  <tbody>\n",
       "    <tr>\n",
       "      <th>2001-06-30</th>\n",
       "      <td>False</td>\n",
       "      <td>False</td>\n",
       "      <td>False</td>\n",
       "      <td>False</td>\n",
       "      <td>False</td>\n",
       "      <td>True</td>\n",
       "      <td>False</td>\n",
       "      <td>True</td>\n",
       "      <td>False</td>\n",
       "      <td>False</td>\n",
       "      <td>...</td>\n",
       "      <td>False</td>\n",
       "      <td>False</td>\n",
       "      <td>False</td>\n",
       "      <td>False</td>\n",
       "      <td>False</td>\n",
       "      <td>False</td>\n",
       "      <td>False</td>\n",
       "      <td>False</td>\n",
       "      <td>False</td>\n",
       "      <td>False</td>\n",
       "    </tr>\n",
       "    <tr>\n",
       "      <th>2001-09-30</th>\n",
       "      <td>False</td>\n",
       "      <td>False</td>\n",
       "      <td>False</td>\n",
       "      <td>False</td>\n",
       "      <td>False</td>\n",
       "      <td>True</td>\n",
       "      <td>False</td>\n",
       "      <td>False</td>\n",
       "      <td>False</td>\n",
       "      <td>False</td>\n",
       "      <td>...</td>\n",
       "      <td>False</td>\n",
       "      <td>False</td>\n",
       "      <td>False</td>\n",
       "      <td>False</td>\n",
       "      <td>False</td>\n",
       "      <td>False</td>\n",
       "      <td>False</td>\n",
       "      <td>False</td>\n",
       "      <td>False</td>\n",
       "      <td>False</td>\n",
       "    </tr>\n",
       "    <tr>\n",
       "      <th>2001-12-31</th>\n",
       "      <td>False</td>\n",
       "      <td>False</td>\n",
       "      <td>False</td>\n",
       "      <td>False</td>\n",
       "      <td>True</td>\n",
       "      <td>False</td>\n",
       "      <td>False</td>\n",
       "      <td>False</td>\n",
       "      <td>True</td>\n",
       "      <td>False</td>\n",
       "      <td>...</td>\n",
       "      <td>False</td>\n",
       "      <td>False</td>\n",
       "      <td>False</td>\n",
       "      <td>False</td>\n",
       "      <td>False</td>\n",
       "      <td>False</td>\n",
       "      <td>False</td>\n",
       "      <td>False</td>\n",
       "      <td>False</td>\n",
       "      <td>False</td>\n",
       "    </tr>\n",
       "    <tr>\n",
       "      <th>2002-03-31</th>\n",
       "      <td>False</td>\n",
       "      <td>False</td>\n",
       "      <td>False</td>\n",
       "      <td>True</td>\n",
       "      <td>False</td>\n",
       "      <td>True</td>\n",
       "      <td>True</td>\n",
       "      <td>False</td>\n",
       "      <td>True</td>\n",
       "      <td>False</td>\n",
       "      <td>...</td>\n",
       "      <td>False</td>\n",
       "      <td>False</td>\n",
       "      <td>False</td>\n",
       "      <td>False</td>\n",
       "      <td>False</td>\n",
       "      <td>False</td>\n",
       "      <td>False</td>\n",
       "      <td>False</td>\n",
       "      <td>False</td>\n",
       "      <td>False</td>\n",
       "    </tr>\n",
       "    <tr>\n",
       "      <th>2002-06-30</th>\n",
       "      <td>False</td>\n",
       "      <td>True</td>\n",
       "      <td>False</td>\n",
       "      <td>True</td>\n",
       "      <td>True</td>\n",
       "      <td>True</td>\n",
       "      <td>False</td>\n",
       "      <td>False</td>\n",
       "      <td>True</td>\n",
       "      <td>False</td>\n",
       "      <td>...</td>\n",
       "      <td>False</td>\n",
       "      <td>False</td>\n",
       "      <td>False</td>\n",
       "      <td>False</td>\n",
       "      <td>False</td>\n",
       "      <td>False</td>\n",
       "      <td>False</td>\n",
       "      <td>False</td>\n",
       "      <td>False</td>\n",
       "      <td>False</td>\n",
       "    </tr>\n",
       "  </tbody>\n",
       "</table>\n",
       "<p>5 rows × 1278 columns</p>\n",
       "</div>"
      ],
      "text/plain": [
       "            A000250  A000440  A001000  A001540  A001810  A001840  A002230  \\\n",
       "Code                                                                        \n",
       "2001-06-30    False    False    False    False    False     True    False   \n",
       "2001-09-30    False    False    False    False    False     True    False   \n",
       "2001-12-31    False    False    False    False     True    False    False   \n",
       "2002-03-31    False    False    False     True    False     True     True   \n",
       "2002-06-30    False     True    False     True     True     True    False   \n",
       "\n",
       "            A002290  A002680  A002800   ...     A900280  A900290  A900300  \\\n",
       "Code                                    ...                                 \n",
       "2001-06-30     True    False    False   ...       False    False    False   \n",
       "2001-09-30    False    False    False   ...       False    False    False   \n",
       "2001-12-31    False     True    False   ...       False    False    False   \n",
       "2002-03-31    False     True    False   ...       False    False    False   \n",
       "2002-06-30    False     True    False   ...       False    False    False   \n",
       "\n",
       "            A900310  A900340  A950110  A950130  A950140  A950160  A950170  \n",
       "Code                                                                       \n",
       "2001-06-30    False    False    False    False    False    False    False  \n",
       "2001-09-30    False    False    False    False    False    False    False  \n",
       "2001-12-31    False    False    False    False    False    False    False  \n",
       "2002-03-31    False    False    False    False    False    False    False  \n",
       "2002-06-30    False    False    False    False    False    False    False  \n",
       "\n",
       "[5 rows x 1278 columns]"
      ]
     },
     "execution_count": 28,
     "metadata": {},
     "output_type": "execute_result"
    }
   ],
   "source": [
    "kdq_op_ic_yoy.head()"
   ]
  },
  {
   "cell_type": "code",
   "execution_count": 29,
   "metadata": {},
   "outputs": [
    {
     "data": {
      "text/plain": [
       "Code\n",
       "2001-06-30     51\n",
       "2001-09-30     64\n",
       "2001-12-31     83\n",
       "2002-03-31     79\n",
       "2002-06-30    106\n",
       "dtype: int64"
      ]
     },
     "execution_count": 29,
     "metadata": {},
     "output_type": "execute_result"
    }
   ],
   "source": [
    "## 25% 이상 주식의 수\n",
    "\n",
    "kdq_op_ic_yoy.sum(axis = 1).head()"
   ]
  },
  {
   "cell_type": "code",
   "execution_count": 36,
   "metadata": {},
   "outputs": [
    {
     "data": {
      "text/plain": [
       "Code\n",
       "2017-09-30    342\n",
       "2017-12-31    365\n",
       "2018-03-31    292\n",
       "2018-06-30    362\n",
       "2018-09-30    364\n",
       "dtype: int64"
      ]
     },
     "execution_count": 36,
     "metadata": {},
     "output_type": "execute_result"
    }
   ],
   "source": [
    "kdq_op_ic_yoy.sum(axis = 1).tail()"
   ]
  },
  {
   "cell_type": "code",
   "execution_count": 30,
   "metadata": {},
   "outputs": [],
   "source": [
    "idices = kdq_op_ic_yoy.index\n",
    "\n",
    "stocks = {}\n",
    "\n",
    "for idx in idices:\n",
    "    \n",
    "    stocks[idx] = (kdq_op_ic_yoy.loc[idx][kdq_op_ic_yoy.loc[idx] == True]).index"
   ]
  },
  {
   "cell_type": "markdown",
   "metadata": {},
   "source": [
    "## 수익률"
   ]
  },
  {
   "cell_type": "code",
   "execution_count": 50,
   "metadata": {},
   "outputs": [],
   "source": [
    "price_rt = kdq_price.pct_change().loc['2001-06-30':'2018-09-30']"
   ]
  },
  {
   "cell_type": "markdown",
   "metadata": {},
   "source": [
    "## 백테스트"
   ]
  },
  {
   "cell_type": "code",
   "execution_count": 56,
   "metadata": {},
   "outputs": [],
   "source": [
    "norm_dates = kdq_op_ic_yoy.index\n",
    "n_starts = norm_dates[:-1]\n",
    "starts = n_starts + pd.tseries.offsets.MonthBegin()\n",
    "ends = norm_dates[1:]"
   ]
  },
  {
   "cell_type": "code",
   "execution_count": 69,
   "metadata": {},
   "outputs": [],
   "source": [
    "ret_data = pd.Series()\n",
    "\n",
    "for n_start, start, end in zip(list(n_starts), list(starts), list(ends)):\n",
    "    \n",
    "    ret_data = pd.concat([ret_data, price_rt[stocks[n_start]].loc[start:end].mean(axis=1)])\n"
   ]
  },
  {
   "cell_type": "markdown",
   "metadata": {},
   "source": [
    "## Performance Analytics"
   ]
  },
  {
   "cell_type": "code",
   "execution_count": 107,
   "metadata": {},
   "outputs": [],
   "source": [
    "from pf_anlysis import PfAnalysis as pf"
   ]
  },
  {
   "cell_type": "code",
   "execution_count": 108,
   "metadata": {},
   "outputs": [],
   "source": [
    "kdq_op_25_ret = pf(ret_data)"
   ]
  },
  {
   "cell_type": "code",
   "execution_count": 85,
   "metadata": {},
   "outputs": [
    {
     "data": {
      "text/plain": [
       "<matplotlib.axes._subplots.AxesSubplot at 0x22f472bf048>"
      ]
     },
     "execution_count": 85,
     "metadata": {},
     "output_type": "execute_result"
    },
    {
     "data": {
      "image/png": "[encoded data removed]",
      "text/plain": [
       "<Figure size 1440x720 with 1 Axes>"
      ]
     },
     "metadata": {},
     "output_type": "display_data"
    }
   ],
   "source": [
    "fig, ax = plt.subplots()\n",
    "fig.set_size_inches(20, 10)\n",
    "\n",
    "ax.set_title('KDQ Operating Income MORE THAN 25%')\n",
    "kdq_op_25_ret.cumReturn().plot(ax = ax)"
   ]
  },
  {
   "cell_type": "code",
   "execution_count": 103,
   "metadata": {},
   "outputs": [
    {
     "name": "stdout",
     "output_type": "stream",
     "text": [
      "Maximum Drawdown for the strategy is 58.72%\n",
      "Total Return on the strategyis 2278.26%\n"
     ]
    }
   ],
   "source": [
    "# 1년\n",
    "max_drawdown = kdq_op_25_ret.maxDrawDown(windows=252)\n",
    "print(f\"Maximum Drawdown for the strategy is {abs(round(max_drawdown*100, 2))}%\")\n",
    "print(f\"Total Return on the strategyis {abs(round((kdq_op_25_ret.data.prod() * 100),2))}%\")"
   ]
  },
  {
   "cell_type": "code",
   "execution_count": 111,
   "metadata": {},
   "outputs": [
    {
     "data": {
      "text/plain": [
       "2001-12-31    -15.56%\n",
       "2002-12-31    -20.40%\n",
       "2003-12-31     14.72%\n",
       "2004-12-31      6.24%\n",
       "2005-12-31    163.60%\n",
       "2006-12-31     11.19%\n",
       "2007-12-31     35.99%\n",
       "2008-12-31    -39.78%\n",
       "2009-12-31    104.03%\n",
       "2010-12-31     22.94%\n",
       "2011-12-31     20.93%\n",
       "2012-12-31     27.07%\n",
       "2013-12-31     14.66%\n",
       "2014-12-31     22.50%\n",
       "2015-12-31     57.73%\n",
       "2016-12-31     17.45%\n",
       "2017-12-31      8.20%\n",
       "2018-12-31      6.76%\n",
       "Freq: A-DEC, dtype: object"
      ]
     },
     "execution_count": 111,
     "metadata": {},
     "output_type": "execute_result"
    }
   ],
   "source": [
    "(kdq_op_25_ret.data.resample('A').prod().sub(1)).apply(lambda x: \"{:,.2%}\".format(x))"
   ]
  }
 ],
 "metadata": {
  "kernelspec": {
   "display_name": "Python 3",
   "language": "python",
   "name": "python3"
  },
  "language_info": {
   "codemirror_mode": {
    "name": "ipython",
    "version": 3
   },
   "file_extension": ".py",
   "mimetype": "text/x-python",
   "name": "python",
   "nbconvert_exporter": "python",
   "pygments_lexer": "ipython3",
   "version": "3.6.5"
  }
 },
 "nbformat": 4,
 "nbformat_minor": 2
}
