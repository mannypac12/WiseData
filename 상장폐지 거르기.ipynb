{
 "cells": [
  {
   "cell_type": "code",
   "execution_count": 103,
   "metadata": {},
   "outputs": [],
   "source": [
    "import pandas as pd\n",
    "import re "
   ]
  },
  {
   "cell_type": "markdown",
   "metadata": {},
   "source": [
    "KOSDQ / KSE Data 추출"
   ]
  },
  {
   "cell_type": "code",
   "execution_count": 105,
   "metadata": {},
   "outputs": [],
   "source": [
    "KDQ = pd.read_csv('Data/Delisted/KDQ.csv')\n",
    "KSE = pd.read_csv('Data/Delisted/KDQ.csv')"
   ]
  },
  {
   "cell_type": "code",
   "execution_count": 106,
   "metadata": {},
   "outputs": [
    {
     "data": {
      "text/html": [
       "<div>\n",
       "<style scoped>\n",
       "    .dataframe tbody tr th:only-of-type {\n",
       "        vertical-align: middle;\n",
       "    }\n",
       "\n",
       "    .dataframe tbody tr th {\n",
       "        vertical-align: top;\n",
       "    }\n",
       "\n",
       "    .dataframe thead th {\n",
       "        text-align: right;\n",
       "    }\n",
       "</style>\n",
       "<table border=\"1\" class=\"dataframe\">\n",
       "  <thead>\n",
       "    <tr style=\"text-align: right;\">\n",
       "      <th></th>\n",
       "      <th>Code</th>\n",
       "      <th>Name</th>\n",
       "      <th>결산월</th>\n",
       "      <th>상장폐지일</th>\n",
       "      <th>상장폐지사유</th>\n",
       "    </tr>\n",
       "  </thead>\n",
       "  <tbody>\n",
       "    <tr>\n",
       "      <th>0</th>\n",
       "      <td>A000380</td>\n",
       "      <td>대아건설</td>\n",
       "      <td>12.0</td>\n",
       "      <td>20041021.0</td>\n",
       "      <td>피흡수합병(20040922)</td>\n",
       "    </tr>\n",
       "    <tr>\n",
       "      <th>1</th>\n",
       "      <td>A000870</td>\n",
       "      <td>전진산업</td>\n",
       "      <td>12.0</td>\n",
       "      <td>19990115.0</td>\n",
       "      <td>(주)아벤티스크롭사이언스코리아에 피흡수합병</td>\n",
       "    </tr>\n",
       "    <tr>\n",
       "      <th>2</th>\n",
       "      <td>A001850</td>\n",
       "      <td>임광토건</td>\n",
       "      <td>12.0</td>\n",
       "      <td>20000607.0</td>\n",
       "      <td>주식분산기준미달</td>\n",
       "    </tr>\n",
       "    <tr>\n",
       "      <th>3</th>\n",
       "      <td>A001990</td>\n",
       "      <td>자유건설</td>\n",
       "      <td>12.0</td>\n",
       "      <td>19991030.0</td>\n",
       "      <td>주식분산기준  미달</td>\n",
       "    </tr>\n",
       "    <tr>\n",
       "      <th>4</th>\n",
       "      <td>A002480</td>\n",
       "      <td>범양사</td>\n",
       "      <td>12.0</td>\n",
       "      <td>20050504.0</td>\n",
       "      <td>주식분산기준 미달 2년 연속</td>\n",
       "    </tr>\n",
       "  </tbody>\n",
       "</table>\n",
       "</div>"
      ],
      "text/plain": [
       "      Code  Name   결산월       상장폐지일                   상장폐지사유\n",
       "0  A000380  대아건설  12.0  20041021.0          피흡수합병(20040922)\n",
       "1  A000870  전진산업  12.0  19990115.0  (주)아벤티스크롭사이언스코리아에 피흡수합병\n",
       "2  A001850  임광토건  12.0  20000607.0                 주식분산기준미달\n",
       "3  A001990  자유건설  12.0  19991030.0               주식분산기준  미달\n",
       "4  A002480   범양사  12.0  20050504.0          주식분산기준 미달 2년 연속"
      ]
     },
     "execution_count": 106,
     "metadata": {},
     "output_type": "execute_result"
    }
   ],
   "source": [
    "KDQ.head()"
   ]
  },
  {
   "cell_type": "code",
   "execution_count": 107,
   "metadata": {},
   "outputs": [
    {
     "data": {
      "text/html": [
       "<div>\n",
       "<style scoped>\n",
       "    .dataframe tbody tr th:only-of-type {\n",
       "        vertical-align: middle;\n",
       "    }\n",
       "\n",
       "    .dataframe tbody tr th {\n",
       "        vertical-align: top;\n",
       "    }\n",
       "\n",
       "    .dataframe thead th {\n",
       "        text-align: right;\n",
       "    }\n",
       "</style>\n",
       "<table border=\"1\" class=\"dataframe\">\n",
       "  <thead>\n",
       "    <tr style=\"text-align: right;\">\n",
       "      <th></th>\n",
       "      <th>Code</th>\n",
       "      <th>Name</th>\n",
       "      <th>결산월</th>\n",
       "      <th>상장폐지일</th>\n",
       "      <th>상장폐지사유</th>\n",
       "    </tr>\n",
       "  </thead>\n",
       "  <tbody>\n",
       "    <tr>\n",
       "      <th>0</th>\n",
       "      <td>A000380</td>\n",
       "      <td>대아건설</td>\n",
       "      <td>12.0</td>\n",
       "      <td>20041021.0</td>\n",
       "      <td>피흡수합병(20040922)</td>\n",
       "    </tr>\n",
       "    <tr>\n",
       "      <th>1</th>\n",
       "      <td>A000870</td>\n",
       "      <td>전진산업</td>\n",
       "      <td>12.0</td>\n",
       "      <td>19990115.0</td>\n",
       "      <td>(주)아벤티스크롭사이언스코리아에 피흡수합병</td>\n",
       "    </tr>\n",
       "    <tr>\n",
       "      <th>2</th>\n",
       "      <td>A001850</td>\n",
       "      <td>임광토건</td>\n",
       "      <td>12.0</td>\n",
       "      <td>20000607.0</td>\n",
       "      <td>주식분산기준미달</td>\n",
       "    </tr>\n",
       "    <tr>\n",
       "      <th>3</th>\n",
       "      <td>A001990</td>\n",
       "      <td>자유건설</td>\n",
       "      <td>12.0</td>\n",
       "      <td>19991030.0</td>\n",
       "      <td>주식분산기준  미달</td>\n",
       "    </tr>\n",
       "    <tr>\n",
       "      <th>4</th>\n",
       "      <td>A002480</td>\n",
       "      <td>범양사</td>\n",
       "      <td>12.0</td>\n",
       "      <td>20050504.0</td>\n",
       "      <td>주식분산기준 미달 2년 연속</td>\n",
       "    </tr>\n",
       "  </tbody>\n",
       "</table>\n",
       "</div>"
      ],
      "text/plain": [
       "      Code  Name   결산월       상장폐지일                   상장폐지사유\n",
       "0  A000380  대아건설  12.0  20041021.0          피흡수합병(20040922)\n",
       "1  A000870  전진산업  12.0  19990115.0  (주)아벤티스크롭사이언스코리아에 피흡수합병\n",
       "2  A001850  임광토건  12.0  20000607.0                 주식분산기준미달\n",
       "3  A001990  자유건설  12.0  19991030.0               주식분산기준  미달\n",
       "4  A002480   범양사  12.0  20050504.0          주식분산기준 미달 2년 연속"
      ]
     },
     "execution_count": 107,
     "metadata": {},
     "output_type": "execute_result"
    }
   ],
   "source": [
    "KSE.head()"
   ]
  },
  {
   "cell_type": "markdown",
   "metadata": {},
   "source": [
    "## 해당 과제\n",
    "\n",
    "1. 결산월 / 상장폐지일\n",
    "\n",
    "   if 상장폐지일 없으면 탈락\n",
    "   형식을 각각 Int와 Date로 바꿀 것\n",
    "   \n",
    "2. 상장폐지사유\n",
    "   합병 등 거래소 변경 / 레알 상장폐지로 구분\n",
    "   Dictionary {\"특수\": 종목, \"레알\": 종목}\n",
    "   \n",
    "   구분할 것"
   ]
  },
  {
   "cell_type": "code",
   "execution_count": 110,
   "metadata": {},
   "outputs": [],
   "source": [
    "## 1번\n",
    "\n",
    "KDQ['상장폐지일'] = pd.to_datetime(KDQ['상장폐지일'].astype(int).astype(str))\n",
    "KSE['상장폐지일'] = pd.to_datetime(KSE['상장폐지일'].astype(int).astype(str))"
   ]
  },
  {
   "cell_type": "code",
   "execution_count": 121,
   "metadata": {},
   "outputs": [
    {
     "data": {
      "text/plain": [
       "0       True\n",
       "1       True\n",
       "2      False\n",
       "3      False\n",
       "4      False\n",
       "5      False\n",
       "6      False\n",
       "7      False\n",
       "8      False\n",
       "9      False\n",
       "10     False\n",
       "11     False\n",
       "12     False\n",
       "13     False\n",
       "14     False\n",
       "15      True\n",
       "16     False\n",
       "17     False\n",
       "18     False\n",
       "19     False\n",
       "20     False\n",
       "21     False\n",
       "22     False\n",
       "23     False\n",
       "24     False\n",
       "25     False\n",
       "26      True\n",
       "27     False\n",
       "28     False\n",
       "29     False\n",
       "       ...  \n",
       "500    False\n",
       "501    False\n",
       "502    False\n",
       "503    False\n",
       "504    False\n",
       "505     True\n",
       "506    False\n",
       "507     True\n",
       "508    False\n",
       "509    False\n",
       "510    False\n",
       "511    False\n",
       "512    False\n",
       "513    False\n",
       "514    False\n",
       "515    False\n",
       "516    False\n",
       "517    False\n",
       "518    False\n",
       "519     True\n",
       "520    False\n",
       "521     True\n",
       "522    False\n",
       "523    False\n",
       "524    False\n",
       "525    False\n",
       "526    False\n",
       "527    False\n",
       "528    False\n",
       "529    False\n",
       "Name: 상장폐지사유, Length: 530, dtype: bool"
      ]
     },
     "execution_count": 121,
     "metadata": {},
     "output_type": "execute_result"
    }
   ],
   "source": [
    "## 2번\n",
    "KDQ['상장폐지사유'].str.contains('합병') "
   ]
  }
 ],
 "metadata": {
  "kernelspec": {
   "display_name": "Python [conda env:tensorflow]",
   "language": "python",
   "name": "conda-env-tensorflow-py"
  },
  "language_info": {
   "codemirror_mode": {
    "name": "ipython",
    "version": 3
   },
   "file_extension": ".py",
   "mimetype": "text/x-python",
   "name": "python",
   "nbconvert_exporter": "python",
   "pygments_lexer": "ipython3",
   "version": "3.6.6"
  }
 },
 "nbformat": 4,
 "nbformat_minor": 2
}
