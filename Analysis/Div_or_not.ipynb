{
 "cells": [
  {
   "cell_type": "code",
   "execution_count": 2,
   "metadata": {},
   "outputs": [],
   "source": [
    "import pandas as pd \n",
    "import matplotlib\n",
    "from FileOpener.CSVReader.CSVReader import CSVReader as csv \n",
    "from FileOpener.backtester import FinancialBacktest\n",
    "\n",
    "%matplotlib inline"
   ]
  },
  {
   "cell_type": "markdown",
   "metadata": {},
   "source": [
    "## 코스피"
   ]
  },
  {
   "cell_type": "code",
   "execution_count": 3,
   "metadata": {},
   "outputs": [],
   "source": [
    "filename = 'KOSPI_FROM_1998_close.csv'\n",
    "directory = 'CSVFile/Price/Korea/Stocks'\n",
    "\n",
    "kse_price = csv.price_reader(filename, directory)"
   ]
  },
  {
   "cell_type": "code",
   "execution_count": 4,
   "metadata": {},
   "outputs": [],
   "source": [
    "filename = 'DIV_OR_NOT_KSE.csv'\n",
    "directory = 'CSVFile/FinancialData/Korea'\n",
    "\n",
    "kse_divd = csv.financial_reader(filename, directory)"
   ]
  },
  {
   "cell_type": "markdown",
   "metadata": {},
   "source": [
    "## 코스닥"
   ]
  },
  {
   "cell_type": "code",
   "execution_count": 5,
   "metadata": {},
   "outputs": [],
   "source": [
    "filename = 'KOSDAQ_FROM_1998_close.csv'\n",
    "directory = 'CSVFile/Price/Korea/Stocks'\n",
    "\n",
    "kdq_price = csv.price_reader(filename, directory)"
   ]
  },
  {
   "cell_type": "code",
   "execution_count": 6,
   "metadata": {},
   "outputs": [],
   "source": [
    "filename = 'DIV_OR_NOT_KDQ.csv'\n",
    "directory = 'CSVFile/FinancialData/Korea'\n",
    "\n",
    "kdq_divd = csv.financial_reader(filename, directory)"
   ]
  },
  {
   "cell_type": "markdown",
   "metadata": {},
   "source": [
    "## 분석을 위한 백테스팅 오브젝트 지정"
   ]
  },
  {
   "cell_type": "code",
   "execution_count": 7,
   "metadata": {},
   "outputs": [],
   "source": [
    "KOSPI = FinancialBacktest(kse_price)\n",
    "KOSDAQ = FinancialBacktest(kdq_price)"
   ]
  },
  {
   "cell_type": "markdown",
   "metadata": {},
   "source": [
    "## 각 시장별 배당 주식 판별"
   ]
  },
  {
   "cell_type": "code",
   "execution_count": 8,
   "metadata": {},
   "outputs": [
    {
     "data": {
      "text/html": [
       "<div>\n",
       "<style scoped>\n",
       "    .dataframe tbody tr th:only-of-type {\n",
       "        vertical-align: middle;\n",
       "    }\n",
       "\n",
       "    .dataframe tbody tr th {\n",
       "        vertical-align: top;\n",
       "    }\n",
       "\n",
       "    .dataframe thead th {\n",
       "        text-align: right;\n",
       "    }\n",
       "</style>\n",
       "<table border=\"1\" class=\"dataframe\">\n",
       "  <thead>\n",
       "    <tr style=\"text-align: right;\">\n",
       "      <th></th>\n",
       "      <th>A000010</th>\n",
       "      <th>A000020</th>\n",
       "      <th>A000030</th>\n",
       "      <th>A000040</th>\n",
       "      <th>A000050</th>\n",
       "      <th>A000060</th>\n",
       "      <th>A000070</th>\n",
       "      <th>A000080</th>\n",
       "      <th>A000090</th>\n",
       "      <th>A000100</th>\n",
       "      <th>...</th>\n",
       "      <th>A298050</th>\n",
       "      <th>A298690</th>\n",
       "      <th>A300720</th>\n",
       "      <th>A306200</th>\n",
       "      <th>A900030</th>\n",
       "      <th>A900050</th>\n",
       "      <th>A900140</th>\n",
       "      <th>A950010</th>\n",
       "      <th>A950070</th>\n",
       "      <th>A950100</th>\n",
       "    </tr>\n",
       "    <tr>\n",
       "      <th>Code</th>\n",
       "      <th></th>\n",
       "      <th></th>\n",
       "      <th></th>\n",
       "      <th></th>\n",
       "      <th></th>\n",
       "      <th></th>\n",
       "      <th></th>\n",
       "      <th></th>\n",
       "      <th></th>\n",
       "      <th></th>\n",
       "      <th></th>\n",
       "      <th></th>\n",
       "      <th></th>\n",
       "      <th></th>\n",
       "      <th></th>\n",
       "      <th></th>\n",
       "      <th></th>\n",
       "      <th></th>\n",
       "      <th></th>\n",
       "      <th></th>\n",
       "      <th></th>\n",
       "    </tr>\n",
       "  </thead>\n",
       "  <tbody>\n",
       "    <tr>\n",
       "      <th>2000-12-31</th>\n",
       "      <td>NaN</td>\n",
       "      <td>20010329.0</td>\n",
       "      <td>NaN</td>\n",
       "      <td>NaN</td>\n",
       "      <td>20010102.0</td>\n",
       "      <td>20010329.0</td>\n",
       "      <td>20000629.0</td>\n",
       "      <td>NaN</td>\n",
       "      <td>NaN</td>\n",
       "      <td>20010102.0</td>\n",
       "      <td>...</td>\n",
       "      <td>NaN</td>\n",
       "      <td>NaN</td>\n",
       "      <td>NaN</td>\n",
       "      <td>NaN</td>\n",
       "      <td>NaN</td>\n",
       "      <td>NaN</td>\n",
       "      <td>NaN</td>\n",
       "      <td>NaN</td>\n",
       "      <td>NaN</td>\n",
       "      <td>NaN</td>\n",
       "    </tr>\n",
       "    <tr>\n",
       "      <th>2001-12-31</th>\n",
       "      <td>NaN</td>\n",
       "      <td>20020328.0</td>\n",
       "      <td>20011227.0</td>\n",
       "      <td>NaN</td>\n",
       "      <td>20011227.0</td>\n",
       "      <td>20020328.0</td>\n",
       "      <td>20010628.0</td>\n",
       "      <td>NaN</td>\n",
       "      <td>NaN</td>\n",
       "      <td>20011227.0</td>\n",
       "      <td>...</td>\n",
       "      <td>NaN</td>\n",
       "      <td>NaN</td>\n",
       "      <td>NaN</td>\n",
       "      <td>NaN</td>\n",
       "      <td>NaN</td>\n",
       "      <td>NaN</td>\n",
       "      <td>NaN</td>\n",
       "      <td>NaN</td>\n",
       "      <td>NaN</td>\n",
       "      <td>NaN</td>\n",
       "    </tr>\n",
       "    <tr>\n",
       "      <th>2002-12-31</th>\n",
       "      <td>NaN</td>\n",
       "      <td>20030328.0</td>\n",
       "      <td>20021227.0</td>\n",
       "      <td>NaN</td>\n",
       "      <td>20021227.0</td>\n",
       "      <td>20030328.0</td>\n",
       "      <td>20021227.0</td>\n",
       "      <td>NaN</td>\n",
       "      <td>NaN</td>\n",
       "      <td>20021227.0</td>\n",
       "      <td>...</td>\n",
       "      <td>NaN</td>\n",
       "      <td>NaN</td>\n",
       "      <td>NaN</td>\n",
       "      <td>NaN</td>\n",
       "      <td>NaN</td>\n",
       "      <td>NaN</td>\n",
       "      <td>NaN</td>\n",
       "      <td>NaN</td>\n",
       "      <td>NaN</td>\n",
       "      <td>NaN</td>\n",
       "    </tr>\n",
       "    <tr>\n",
       "      <th>2003-12-31</th>\n",
       "      <td>NaN</td>\n",
       "      <td>20040330.0</td>\n",
       "      <td>20031229.0</td>\n",
       "      <td>NaN</td>\n",
       "      <td>20031229.0</td>\n",
       "      <td>20040330.0</td>\n",
       "      <td>20031229.0</td>\n",
       "      <td>NaN</td>\n",
       "      <td>NaN</td>\n",
       "      <td>20031229.0</td>\n",
       "      <td>...</td>\n",
       "      <td>NaN</td>\n",
       "      <td>NaN</td>\n",
       "      <td>NaN</td>\n",
       "      <td>NaN</td>\n",
       "      <td>NaN</td>\n",
       "      <td>NaN</td>\n",
       "      <td>NaN</td>\n",
       "      <td>NaN</td>\n",
       "      <td>NaN</td>\n",
       "      <td>NaN</td>\n",
       "    </tr>\n",
       "    <tr>\n",
       "      <th>2004-12-31</th>\n",
       "      <td>NaN</td>\n",
       "      <td>20050330.0</td>\n",
       "      <td>NaN</td>\n",
       "      <td>NaN</td>\n",
       "      <td>NaN</td>\n",
       "      <td>20050330.0</td>\n",
       "      <td>20041229.0</td>\n",
       "      <td>NaN</td>\n",
       "      <td>NaN</td>\n",
       "      <td>20041229.0</td>\n",
       "      <td>...</td>\n",
       "      <td>NaN</td>\n",
       "      <td>NaN</td>\n",
       "      <td>NaN</td>\n",
       "      <td>NaN</td>\n",
       "      <td>NaN</td>\n",
       "      <td>NaN</td>\n",
       "      <td>NaN</td>\n",
       "      <td>NaN</td>\n",
       "      <td>NaN</td>\n",
       "      <td>NaN</td>\n",
       "    </tr>\n",
       "  </tbody>\n",
       "</table>\n",
       "<p>5 rows × 1192 columns</p>\n",
       "</div>"
      ],
      "text/plain": [
       "            A000010     A000020     A000030  A000040     A000050     A000060  \\\n",
       "Code                                                                           \n",
       "2000-12-31      NaN  20010329.0         NaN      NaN  20010102.0  20010329.0   \n",
       "2001-12-31      NaN  20020328.0  20011227.0      NaN  20011227.0  20020328.0   \n",
       "2002-12-31      NaN  20030328.0  20021227.0      NaN  20021227.0  20030328.0   \n",
       "2003-12-31      NaN  20040330.0  20031229.0      NaN  20031229.0  20040330.0   \n",
       "2004-12-31      NaN  20050330.0         NaN      NaN         NaN  20050330.0   \n",
       "\n",
       "               A000070  A000080  A000090     A000100   ...     A298050  \\\n",
       "Code                                                   ...               \n",
       "2000-12-31  20000629.0      NaN      NaN  20010102.0   ...         NaN   \n",
       "2001-12-31  20010628.0      NaN      NaN  20011227.0   ...         NaN   \n",
       "2002-12-31  20021227.0      NaN      NaN  20021227.0   ...         NaN   \n",
       "2003-12-31  20031229.0      NaN      NaN  20031229.0   ...         NaN   \n",
       "2004-12-31  20041229.0      NaN      NaN  20041229.0   ...         NaN   \n",
       "\n",
       "            A298690  A300720  A306200  A900030  A900050  A900140  A950010  \\\n",
       "Code                                                                        \n",
       "2000-12-31      NaN      NaN      NaN      NaN      NaN      NaN      NaN   \n",
       "2001-12-31      NaN      NaN      NaN      NaN      NaN      NaN      NaN   \n",
       "2002-12-31      NaN      NaN      NaN      NaN      NaN      NaN      NaN   \n",
       "2003-12-31      NaN      NaN      NaN      NaN      NaN      NaN      NaN   \n",
       "2004-12-31      NaN      NaN      NaN      NaN      NaN      NaN      NaN   \n",
       "\n",
       "            A950070  A950100  \n",
       "Code                          \n",
       "2000-12-31      NaN      NaN  \n",
       "2001-12-31      NaN      NaN  \n",
       "2002-12-31      NaN      NaN  \n",
       "2003-12-31      NaN      NaN  \n",
       "2004-12-31      NaN      NaN  \n",
       "\n",
       "[5 rows x 1192 columns]"
      ]
     },
     "execution_count": 8,
     "metadata": {},
     "output_type": "execute_result"
    }
   ],
   "source": [
    "kse_divd.head()"
   ]
  },
  {
   "cell_type": "code",
   "execution_count": 9,
   "metadata": {},
   "outputs": [
    {
     "data": {
      "text/html": [
       "<div>\n",
       "<style scoped>\n",
       "    .dataframe tbody tr th:only-of-type {\n",
       "        vertical-align: middle;\n",
       "    }\n",
       "\n",
       "    .dataframe tbody tr th {\n",
       "        vertical-align: top;\n",
       "    }\n",
       "\n",
       "    .dataframe thead th {\n",
       "        text-align: right;\n",
       "    }\n",
       "</style>\n",
       "<table border=\"1\" class=\"dataframe\">\n",
       "  <thead>\n",
       "    <tr style=\"text-align: right;\">\n",
       "      <th></th>\n",
       "      <th>A000250</th>\n",
       "      <th>A000380</th>\n",
       "      <th>A000440</th>\n",
       "      <th>A000530</th>\n",
       "      <th>A000550</th>\n",
       "      <th>A000600</th>\n",
       "      <th>A000870</th>\n",
       "      <th>A001000</th>\n",
       "      <th>A001540</th>\n",
       "      <th>A001810</th>\n",
       "      <th>...</th>\n",
       "      <th>A900290</th>\n",
       "      <th>A900300</th>\n",
       "      <th>A900310</th>\n",
       "      <th>A900340</th>\n",
       "      <th>A950030</th>\n",
       "      <th>A950110</th>\n",
       "      <th>A950130</th>\n",
       "      <th>A950140</th>\n",
       "      <th>A950160</th>\n",
       "      <th>A950170</th>\n",
       "    </tr>\n",
       "    <tr>\n",
       "      <th>Code</th>\n",
       "      <th></th>\n",
       "      <th></th>\n",
       "      <th></th>\n",
       "      <th></th>\n",
       "      <th></th>\n",
       "      <th></th>\n",
       "      <th></th>\n",
       "      <th></th>\n",
       "      <th></th>\n",
       "      <th></th>\n",
       "      <th></th>\n",
       "      <th></th>\n",
       "      <th></th>\n",
       "      <th></th>\n",
       "      <th></th>\n",
       "      <th></th>\n",
       "      <th></th>\n",
       "      <th></th>\n",
       "      <th></th>\n",
       "      <th></th>\n",
       "      <th></th>\n",
       "    </tr>\n",
       "  </thead>\n",
       "  <tbody>\n",
       "    <tr>\n",
       "      <th>2000-12-31</th>\n",
       "      <td>20010102.0</td>\n",
       "      <td>NaN</td>\n",
       "      <td>20000928.0</td>\n",
       "      <td>NaN</td>\n",
       "      <td>NaN</td>\n",
       "      <td>NaN</td>\n",
       "      <td>NaN</td>\n",
       "      <td>NaN</td>\n",
       "      <td>20010102.0</td>\n",
       "      <td>20010102.0</td>\n",
       "      <td>...</td>\n",
       "      <td>NaN</td>\n",
       "      <td>NaN</td>\n",
       "      <td>NaN</td>\n",
       "      <td>NaN</td>\n",
       "      <td>NaN</td>\n",
       "      <td>NaN</td>\n",
       "      <td>NaN</td>\n",
       "      <td>NaN</td>\n",
       "      <td>NaN</td>\n",
       "      <td>NaN</td>\n",
       "    </tr>\n",
       "    <tr>\n",
       "      <th>2001-12-31</th>\n",
       "      <td>20011227.0</td>\n",
       "      <td>20011227.0</td>\n",
       "      <td>20010927.0</td>\n",
       "      <td>NaN</td>\n",
       "      <td>NaN</td>\n",
       "      <td>NaN</td>\n",
       "      <td>NaN</td>\n",
       "      <td>NaN</td>\n",
       "      <td>20011227.0</td>\n",
       "      <td>20011227.0</td>\n",
       "      <td>...</td>\n",
       "      <td>NaN</td>\n",
       "      <td>NaN</td>\n",
       "      <td>NaN</td>\n",
       "      <td>NaN</td>\n",
       "      <td>NaN</td>\n",
       "      <td>NaN</td>\n",
       "      <td>NaN</td>\n",
       "      <td>NaN</td>\n",
       "      <td>NaN</td>\n",
       "      <td>NaN</td>\n",
       "    </tr>\n",
       "    <tr>\n",
       "      <th>2002-12-31</th>\n",
       "      <td>20021227.0</td>\n",
       "      <td>20021227.0</td>\n",
       "      <td>20020927.0</td>\n",
       "      <td>NaN</td>\n",
       "      <td>NaN</td>\n",
       "      <td>NaN</td>\n",
       "      <td>NaN</td>\n",
       "      <td>NaN</td>\n",
       "      <td>20021227.0</td>\n",
       "      <td>20021227.0</td>\n",
       "      <td>...</td>\n",
       "      <td>NaN</td>\n",
       "      <td>NaN</td>\n",
       "      <td>NaN</td>\n",
       "      <td>NaN</td>\n",
       "      <td>NaN</td>\n",
       "      <td>NaN</td>\n",
       "      <td>NaN</td>\n",
       "      <td>NaN</td>\n",
       "      <td>NaN</td>\n",
       "      <td>NaN</td>\n",
       "    </tr>\n",
       "    <tr>\n",
       "      <th>2003-12-31</th>\n",
       "      <td>20031229.0</td>\n",
       "      <td>20031229.0</td>\n",
       "      <td>20030929.0</td>\n",
       "      <td>NaN</td>\n",
       "      <td>NaN</td>\n",
       "      <td>NaN</td>\n",
       "      <td>NaN</td>\n",
       "      <td>NaN</td>\n",
       "      <td>20031229.0</td>\n",
       "      <td>20031229.0</td>\n",
       "      <td>...</td>\n",
       "      <td>NaN</td>\n",
       "      <td>NaN</td>\n",
       "      <td>NaN</td>\n",
       "      <td>NaN</td>\n",
       "      <td>NaN</td>\n",
       "      <td>NaN</td>\n",
       "      <td>NaN</td>\n",
       "      <td>NaN</td>\n",
       "      <td>NaN</td>\n",
       "      <td>NaN</td>\n",
       "    </tr>\n",
       "    <tr>\n",
       "      <th>2004-12-31</th>\n",
       "      <td>20041229.0</td>\n",
       "      <td>NaN</td>\n",
       "      <td>20040924.0</td>\n",
       "      <td>NaN</td>\n",
       "      <td>NaN</td>\n",
       "      <td>NaN</td>\n",
       "      <td>NaN</td>\n",
       "      <td>NaN</td>\n",
       "      <td>20041229.0</td>\n",
       "      <td>20041229.0</td>\n",
       "      <td>...</td>\n",
       "      <td>NaN</td>\n",
       "      <td>NaN</td>\n",
       "      <td>NaN</td>\n",
       "      <td>NaN</td>\n",
       "      <td>NaN</td>\n",
       "      <td>NaN</td>\n",
       "      <td>NaN</td>\n",
       "      <td>NaN</td>\n",
       "      <td>NaN</td>\n",
       "      <td>NaN</td>\n",
       "    </tr>\n",
       "  </tbody>\n",
       "</table>\n",
       "<p>5 rows × 1913 columns</p>\n",
       "</div>"
      ],
      "text/plain": [
       "               A000250     A000380     A000440  A000530  A000550  A000600  \\\n",
       "Code                                                                        \n",
       "2000-12-31  20010102.0         NaN  20000928.0      NaN      NaN      NaN   \n",
       "2001-12-31  20011227.0  20011227.0  20010927.0      NaN      NaN      NaN   \n",
       "2002-12-31  20021227.0  20021227.0  20020927.0      NaN      NaN      NaN   \n",
       "2003-12-31  20031229.0  20031229.0  20030929.0      NaN      NaN      NaN   \n",
       "2004-12-31  20041229.0         NaN  20040924.0      NaN      NaN      NaN   \n",
       "\n",
       "            A000870  A001000     A001540     A001810   ...     A900290  \\\n",
       "Code                                                   ...               \n",
       "2000-12-31      NaN      NaN  20010102.0  20010102.0   ...         NaN   \n",
       "2001-12-31      NaN      NaN  20011227.0  20011227.0   ...         NaN   \n",
       "2002-12-31      NaN      NaN  20021227.0  20021227.0   ...         NaN   \n",
       "2003-12-31      NaN      NaN  20031229.0  20031229.0   ...         NaN   \n",
       "2004-12-31      NaN      NaN  20041229.0  20041229.0   ...         NaN   \n",
       "\n",
       "            A900300  A900310  A900340  A950030  A950110  A950130  A950140  \\\n",
       "Code                                                                        \n",
       "2000-12-31      NaN      NaN      NaN      NaN      NaN      NaN      NaN   \n",
       "2001-12-31      NaN      NaN      NaN      NaN      NaN      NaN      NaN   \n",
       "2002-12-31      NaN      NaN      NaN      NaN      NaN      NaN      NaN   \n",
       "2003-12-31      NaN      NaN      NaN      NaN      NaN      NaN      NaN   \n",
       "2004-12-31      NaN      NaN      NaN      NaN      NaN      NaN      NaN   \n",
       "\n",
       "            A950160  A950170  \n",
       "Code                          \n",
       "2000-12-31      NaN      NaN  \n",
       "2001-12-31      NaN      NaN  \n",
       "2002-12-31      NaN      NaN  \n",
       "2003-12-31      NaN      NaN  \n",
       "2004-12-31      NaN      NaN  \n",
       "\n",
       "[5 rows x 1913 columns]"
      ]
     },
     "execution_count": 9,
     "metadata": {},
     "output_type": "execute_result"
    }
   ],
   "source": [
    "kdq_divd.head()"
   ]
  },
  {
   "cell_type": "markdown",
   "metadata": {},
   "source": [
    "### 만약 해당 년도에 배당락이 걸려있지 않은 경우 NaN / 배당락이 걸려있는 경우 Not Nan"
   ]
  },
  {
   "cell_type": "code",
   "execution_count": 10,
   "metadata": {},
   "outputs": [],
   "source": [
    "kse_div = ~kse_divd.isnull()\n",
    "kdq_div = ~kdq_divd.isnull()"
   ]
  },
  {
   "cell_type": "code",
   "execution_count": 11,
   "metadata": {},
   "outputs": [
    {
     "data": {
      "text/html": [
       "<div>\n",
       "<style scoped>\n",
       "    .dataframe tbody tr th:only-of-type {\n",
       "        vertical-align: middle;\n",
       "    }\n",
       "\n",
       "    .dataframe tbody tr th {\n",
       "        vertical-align: top;\n",
       "    }\n",
       "\n",
       "    .dataframe thead th {\n",
       "        text-align: right;\n",
       "    }\n",
       "</style>\n",
       "<table border=\"1\" class=\"dataframe\">\n",
       "  <thead>\n",
       "    <tr style=\"text-align: right;\">\n",
       "      <th></th>\n",
       "      <th>A000010</th>\n",
       "      <th>A000020</th>\n",
       "      <th>A000030</th>\n",
       "      <th>A000040</th>\n",
       "      <th>A000050</th>\n",
       "      <th>A000060</th>\n",
       "      <th>A000070</th>\n",
       "      <th>A000080</th>\n",
       "      <th>A000090</th>\n",
       "      <th>A000100</th>\n",
       "      <th>...</th>\n",
       "      <th>A298050</th>\n",
       "      <th>A298690</th>\n",
       "      <th>A300720</th>\n",
       "      <th>A306200</th>\n",
       "      <th>A900030</th>\n",
       "      <th>A900050</th>\n",
       "      <th>A900140</th>\n",
       "      <th>A950010</th>\n",
       "      <th>A950070</th>\n",
       "      <th>A950100</th>\n",
       "    </tr>\n",
       "    <tr>\n",
       "      <th>Code</th>\n",
       "      <th></th>\n",
       "      <th></th>\n",
       "      <th></th>\n",
       "      <th></th>\n",
       "      <th></th>\n",
       "      <th></th>\n",
       "      <th></th>\n",
       "      <th></th>\n",
       "      <th></th>\n",
       "      <th></th>\n",
       "      <th></th>\n",
       "      <th></th>\n",
       "      <th></th>\n",
       "      <th></th>\n",
       "      <th></th>\n",
       "      <th></th>\n",
       "      <th></th>\n",
       "      <th></th>\n",
       "      <th></th>\n",
       "      <th></th>\n",
       "      <th></th>\n",
       "    </tr>\n",
       "  </thead>\n",
       "  <tbody>\n",
       "    <tr>\n",
       "      <th>2000-12-31</th>\n",
       "      <td>False</td>\n",
       "      <td>True</td>\n",
       "      <td>False</td>\n",
       "      <td>False</td>\n",
       "      <td>True</td>\n",
       "      <td>True</td>\n",
       "      <td>True</td>\n",
       "      <td>False</td>\n",
       "      <td>False</td>\n",
       "      <td>True</td>\n",
       "      <td>...</td>\n",
       "      <td>False</td>\n",
       "      <td>False</td>\n",
       "      <td>False</td>\n",
       "      <td>False</td>\n",
       "      <td>False</td>\n",
       "      <td>False</td>\n",
       "      <td>False</td>\n",
       "      <td>False</td>\n",
       "      <td>False</td>\n",
       "      <td>False</td>\n",
       "    </tr>\n",
       "    <tr>\n",
       "      <th>2001-12-31</th>\n",
       "      <td>False</td>\n",
       "      <td>True</td>\n",
       "      <td>True</td>\n",
       "      <td>False</td>\n",
       "      <td>True</td>\n",
       "      <td>True</td>\n",
       "      <td>True</td>\n",
       "      <td>False</td>\n",
       "      <td>False</td>\n",
       "      <td>True</td>\n",
       "      <td>...</td>\n",
       "      <td>False</td>\n",
       "      <td>False</td>\n",
       "      <td>False</td>\n",
       "      <td>False</td>\n",
       "      <td>False</td>\n",
       "      <td>False</td>\n",
       "      <td>False</td>\n",
       "      <td>False</td>\n",
       "      <td>False</td>\n",
       "      <td>False</td>\n",
       "    </tr>\n",
       "    <tr>\n",
       "      <th>2002-12-31</th>\n",
       "      <td>False</td>\n",
       "      <td>True</td>\n",
       "      <td>True</td>\n",
       "      <td>False</td>\n",
       "      <td>True</td>\n",
       "      <td>True</td>\n",
       "      <td>True</td>\n",
       "      <td>False</td>\n",
       "      <td>False</td>\n",
       "      <td>True</td>\n",
       "      <td>...</td>\n",
       "      <td>False</td>\n",
       "      <td>False</td>\n",
       "      <td>False</td>\n",
       "      <td>False</td>\n",
       "      <td>False</td>\n",
       "      <td>False</td>\n",
       "      <td>False</td>\n",
       "      <td>False</td>\n",
       "      <td>False</td>\n",
       "      <td>False</td>\n",
       "    </tr>\n",
       "    <tr>\n",
       "      <th>2003-12-31</th>\n",
       "      <td>False</td>\n",
       "      <td>True</td>\n",
       "      <td>True</td>\n",
       "      <td>False</td>\n",
       "      <td>True</td>\n",
       "      <td>True</td>\n",
       "      <td>True</td>\n",
       "      <td>False</td>\n",
       "      <td>False</td>\n",
       "      <td>True</td>\n",
       "      <td>...</td>\n",
       "      <td>False</td>\n",
       "      <td>False</td>\n",
       "      <td>False</td>\n",
       "      <td>False</td>\n",
       "      <td>False</td>\n",
       "      <td>False</td>\n",
       "      <td>False</td>\n",
       "      <td>False</td>\n",
       "      <td>False</td>\n",
       "      <td>False</td>\n",
       "    </tr>\n",
       "    <tr>\n",
       "      <th>2004-12-31</th>\n",
       "      <td>False</td>\n",
       "      <td>True</td>\n",
       "      <td>False</td>\n",
       "      <td>False</td>\n",
       "      <td>False</td>\n",
       "      <td>True</td>\n",
       "      <td>True</td>\n",
       "      <td>False</td>\n",
       "      <td>False</td>\n",
       "      <td>True</td>\n",
       "      <td>...</td>\n",
       "      <td>False</td>\n",
       "      <td>False</td>\n",
       "      <td>False</td>\n",
       "      <td>False</td>\n",
       "      <td>False</td>\n",
       "      <td>False</td>\n",
       "      <td>False</td>\n",
       "      <td>False</td>\n",
       "      <td>False</td>\n",
       "      <td>False</td>\n",
       "    </tr>\n",
       "  </tbody>\n",
       "</table>\n",
       "<p>5 rows × 1192 columns</p>\n",
       "</div>"
      ],
      "text/plain": [
       "            A000010  A000020  A000030  A000040  A000050  A000060  A000070  \\\n",
       "Code                                                                        \n",
       "2000-12-31    False     True    False    False     True     True     True   \n",
       "2001-12-31    False     True     True    False     True     True     True   \n",
       "2002-12-31    False     True     True    False     True     True     True   \n",
       "2003-12-31    False     True     True    False     True     True     True   \n",
       "2004-12-31    False     True    False    False    False     True     True   \n",
       "\n",
       "            A000080  A000090  A000100   ...     A298050  A298690  A300720  \\\n",
       "Code                                    ...                                 \n",
       "2000-12-31    False    False     True   ...       False    False    False   \n",
       "2001-12-31    False    False     True   ...       False    False    False   \n",
       "2002-12-31    False    False     True   ...       False    False    False   \n",
       "2003-12-31    False    False     True   ...       False    False    False   \n",
       "2004-12-31    False    False     True   ...       False    False    False   \n",
       "\n",
       "            A306200  A900030  A900050  A900140  A950010  A950070  A950100  \n",
       "Code                                                                       \n",
       "2000-12-31    False    False    False    False    False    False    False  \n",
       "2001-12-31    False    False    False    False    False    False    False  \n",
       "2002-12-31    False    False    False    False    False    False    False  \n",
       "2003-12-31    False    False    False    False    False    False    False  \n",
       "2004-12-31    False    False    False    False    False    False    False  \n",
       "\n",
       "[5 rows x 1192 columns]"
      ]
     },
     "execution_count": 11,
     "metadata": {},
     "output_type": "execute_result"
    }
   ],
   "source": [
    "kse_div.head()"
   ]
  },
  {
   "cell_type": "code",
   "execution_count": 12,
   "metadata": {},
   "outputs": [
    {
     "data": {
      "text/html": [
       "<div>\n",
       "<style scoped>\n",
       "    .dataframe tbody tr th:only-of-type {\n",
       "        vertical-align: middle;\n",
       "    }\n",
       "\n",
       "    .dataframe tbody tr th {\n",
       "        vertical-align: top;\n",
       "    }\n",
       "\n",
       "    .dataframe thead th {\n",
       "        text-align: right;\n",
       "    }\n",
       "</style>\n",
       "<table border=\"1\" class=\"dataframe\">\n",
       "  <thead>\n",
       "    <tr style=\"text-align: right;\">\n",
       "      <th></th>\n",
       "      <th>A000250</th>\n",
       "      <th>A000380</th>\n",
       "      <th>A000440</th>\n",
       "      <th>A000530</th>\n",
       "      <th>A000550</th>\n",
       "      <th>A000600</th>\n",
       "      <th>A000870</th>\n",
       "      <th>A001000</th>\n",
       "      <th>A001540</th>\n",
       "      <th>A001810</th>\n",
       "      <th>...</th>\n",
       "      <th>A900290</th>\n",
       "      <th>A900300</th>\n",
       "      <th>A900310</th>\n",
       "      <th>A900340</th>\n",
       "      <th>A950030</th>\n",
       "      <th>A950110</th>\n",
       "      <th>A950130</th>\n",
       "      <th>A950140</th>\n",
       "      <th>A950160</th>\n",
       "      <th>A950170</th>\n",
       "    </tr>\n",
       "    <tr>\n",
       "      <th>Code</th>\n",
       "      <th></th>\n",
       "      <th></th>\n",
       "      <th></th>\n",
       "      <th></th>\n",
       "      <th></th>\n",
       "      <th></th>\n",
       "      <th></th>\n",
       "      <th></th>\n",
       "      <th></th>\n",
       "      <th></th>\n",
       "      <th></th>\n",
       "      <th></th>\n",
       "      <th></th>\n",
       "      <th></th>\n",
       "      <th></th>\n",
       "      <th></th>\n",
       "      <th></th>\n",
       "      <th></th>\n",
       "      <th></th>\n",
       "      <th></th>\n",
       "      <th></th>\n",
       "    </tr>\n",
       "  </thead>\n",
       "  <tbody>\n",
       "    <tr>\n",
       "      <th>2000-12-31</th>\n",
       "      <td>True</td>\n",
       "      <td>False</td>\n",
       "      <td>True</td>\n",
       "      <td>False</td>\n",
       "      <td>False</td>\n",
       "      <td>False</td>\n",
       "      <td>False</td>\n",
       "      <td>False</td>\n",
       "      <td>True</td>\n",
       "      <td>True</td>\n",
       "      <td>...</td>\n",
       "      <td>False</td>\n",
       "      <td>False</td>\n",
       "      <td>False</td>\n",
       "      <td>False</td>\n",
       "      <td>False</td>\n",
       "      <td>False</td>\n",
       "      <td>False</td>\n",
       "      <td>False</td>\n",
       "      <td>False</td>\n",
       "      <td>False</td>\n",
       "    </tr>\n",
       "    <tr>\n",
       "      <th>2001-12-31</th>\n",
       "      <td>True</td>\n",
       "      <td>True</td>\n",
       "      <td>True</td>\n",
       "      <td>False</td>\n",
       "      <td>False</td>\n",
       "      <td>False</td>\n",
       "      <td>False</td>\n",
       "      <td>False</td>\n",
       "      <td>True</td>\n",
       "      <td>True</td>\n",
       "      <td>...</td>\n",
       "      <td>False</td>\n",
       "      <td>False</td>\n",
       "      <td>False</td>\n",
       "      <td>False</td>\n",
       "      <td>False</td>\n",
       "      <td>False</td>\n",
       "      <td>False</td>\n",
       "      <td>False</td>\n",
       "      <td>False</td>\n",
       "      <td>False</td>\n",
       "    </tr>\n",
       "    <tr>\n",
       "      <th>2002-12-31</th>\n",
       "      <td>True</td>\n",
       "      <td>True</td>\n",
       "      <td>True</td>\n",
       "      <td>False</td>\n",
       "      <td>False</td>\n",
       "      <td>False</td>\n",
       "      <td>False</td>\n",
       "      <td>False</td>\n",
       "      <td>True</td>\n",
       "      <td>True</td>\n",
       "      <td>...</td>\n",
       "      <td>False</td>\n",
       "      <td>False</td>\n",
       "      <td>False</td>\n",
       "      <td>False</td>\n",
       "      <td>False</td>\n",
       "      <td>False</td>\n",
       "      <td>False</td>\n",
       "      <td>False</td>\n",
       "      <td>False</td>\n",
       "      <td>False</td>\n",
       "    </tr>\n",
       "    <tr>\n",
       "      <th>2003-12-31</th>\n",
       "      <td>True</td>\n",
       "      <td>True</td>\n",
       "      <td>True</td>\n",
       "      <td>False</td>\n",
       "      <td>False</td>\n",
       "      <td>False</td>\n",
       "      <td>False</td>\n",
       "      <td>False</td>\n",
       "      <td>True</td>\n",
       "      <td>True</td>\n",
       "      <td>...</td>\n",
       "      <td>False</td>\n",
       "      <td>False</td>\n",
       "      <td>False</td>\n",
       "      <td>False</td>\n",
       "      <td>False</td>\n",
       "      <td>False</td>\n",
       "      <td>False</td>\n",
       "      <td>False</td>\n",
       "      <td>False</td>\n",
       "      <td>False</td>\n",
       "    </tr>\n",
       "    <tr>\n",
       "      <th>2004-12-31</th>\n",
       "      <td>True</td>\n",
       "      <td>False</td>\n",
       "      <td>True</td>\n",
       "      <td>False</td>\n",
       "      <td>False</td>\n",
       "      <td>False</td>\n",
       "      <td>False</td>\n",
       "      <td>False</td>\n",
       "      <td>True</td>\n",
       "      <td>True</td>\n",
       "      <td>...</td>\n",
       "      <td>False</td>\n",
       "      <td>False</td>\n",
       "      <td>False</td>\n",
       "      <td>False</td>\n",
       "      <td>False</td>\n",
       "      <td>False</td>\n",
       "      <td>False</td>\n",
       "      <td>False</td>\n",
       "      <td>False</td>\n",
       "      <td>False</td>\n",
       "    </tr>\n",
       "  </tbody>\n",
       "</table>\n",
       "<p>5 rows × 1913 columns</p>\n",
       "</div>"
      ],
      "text/plain": [
       "            A000250  A000380  A000440  A000530  A000550  A000600  A000870  \\\n",
       "Code                                                                        \n",
       "2000-12-31     True    False     True    False    False    False    False   \n",
       "2001-12-31     True     True     True    False    False    False    False   \n",
       "2002-12-31     True     True     True    False    False    False    False   \n",
       "2003-12-31     True     True     True    False    False    False    False   \n",
       "2004-12-31     True    False     True    False    False    False    False   \n",
       "\n",
       "            A001000  A001540  A001810   ...     A900290  A900300  A900310  \\\n",
       "Code                                    ...                                 \n",
       "2000-12-31    False     True     True   ...       False    False    False   \n",
       "2001-12-31    False     True     True   ...       False    False    False   \n",
       "2002-12-31    False     True     True   ...       False    False    False   \n",
       "2003-12-31    False     True     True   ...       False    False    False   \n",
       "2004-12-31    False     True     True   ...       False    False    False   \n",
       "\n",
       "            A900340  A950030  A950110  A950130  A950140  A950160  A950170  \n",
       "Code                                                                       \n",
       "2000-12-31    False    False    False    False    False    False    False  \n",
       "2001-12-31    False    False    False    False    False    False    False  \n",
       "2002-12-31    False    False    False    False    False    False    False  \n",
       "2003-12-31    False    False    False    False    False    False    False  \n",
       "2004-12-31    False    False    False    False    False    False    False  \n",
       "\n",
       "[5 rows x 1913 columns]"
      ]
     },
     "execution_count": 12,
     "metadata": {},
     "output_type": "execute_result"
    }
   ],
   "source": [
    "kdq_div.head()"
   ]
  },
  {
   "cell_type": "markdown",
   "metadata": {},
   "source": [
    "## 해당시기 Listed 되지 않은 주식을 판별할 필요가 있음 \n",
    "\n",
    "### 다행히 클래스 내에서 판별 함수를 반영"
   ]
  },
  {
   "cell_type": "code",
   "execution_count": 14,
   "metadata": {},
   "outputs": [],
   "source": [
    "kospi_div_stock = KOSPI.stock_screen(screen=kse_div, freq = 'A')\n",
    "kosdaq_div_stock = KOSDAQ.stock_screen(screen=kdq_div, freq = 'A')"
   ]
  },
  {
   "cell_type": "code",
   "execution_count": 15,
   "metadata": {},
   "outputs": [
    {
     "name": "stdout",
     "output_type": "stream",
     "text": [
      "00.12.31: 390\n",
      "01.12.31: 385\n",
      "02.12.31: 422\n",
      "03.12.31: 448\n",
      "04.12.31: 462\n",
      "05.12.31: 483\n",
      "06.12.31: 502\n",
      "07.12.31: 510\n",
      "08.12.31: 462\n",
      "09.12.31: 494\n",
      "10.12.31: 534\n",
      "11.12.31: 517\n",
      "12.12.31: 501\n",
      "13.12.31: 485\n",
      "14.12.31: 495\n",
      "15.12.31: 503\n",
      "16.12.31: 531\n",
      "17.12.31: 546\n"
     ]
    }
   ],
   "source": [
    "for key, value in kospi_div_stock.items():\n",
    "    \n",
    "    print(f\"{key.strftime('%y.%m.%d')}: {len(value)}\")"
   ]
  },
  {
   "cell_type": "code",
   "execution_count": 25,
   "metadata": {},
   "outputs": [
    {
     "name": "stdout",
     "output_type": "stream",
     "text": [
      "00.12.31: 299\n",
      "01.12.31: 348\n",
      "02.12.31: 364\n",
      "03.12.31: 359\n",
      "04.12.31: 404\n",
      "05.12.31: 417\n",
      "06.12.31: 415\n",
      "07.12.31: 417\n",
      "08.12.31: 338\n",
      "09.12.31: 402\n",
      "10.12.31: 440\n",
      "11.12.31: 448\n",
      "12.12.31: 454\n",
      "13.12.31: 438\n",
      "14.12.31: 481\n",
      "15.12.31: 499\n",
      "16.12.31: 530\n",
      "17.12.31: 564\n"
     ]
    }
   ],
   "source": [
    "for key, value in kosdaq_div_stock.items():\n",
    "    \n",
    "    print(f\"{key.strftime('%y.%m.%d')}: {len(value)}\")"
   ]
  },
  {
   "cell_type": "markdown",
   "metadata": {},
   "source": [
    "## 백테스트\n",
    "\n",
    "### 당해 보고서에 배당락일이 공시된 종목을 다음해 1월부터 12월 말까지 보유 후 1년간 리밸런싱 하는 전략"
   ]
  },
  {
   "cell_type": "code",
   "execution_count": 16,
   "metadata": {},
   "outputs": [],
   "source": [
    "kospi_divd_rt = KOSPI.backtest(screen=kse_div,freq_date='A',freq_stock='A')\n",
    "kosdaq_divd_rt = KOSDAQ.backtest(screen=kdq_div,freq_date='A',freq_stock='A')"
   ]
  },
  {
   "cell_type": "markdown",
   "metadata": {},
   "source": [
    "## 코스피"
   ]
  },
  {
   "cell_type": "code",
   "execution_count": 17,
   "metadata": {},
   "outputs": [
    {
     "data": {
      "text/plain": [
       "<matplotlib.axes._subplots.AxesSubplot at 0x1f53844e5f8>"
      ]
     },
     "execution_count": 17,
     "metadata": {},
     "output_type": "execute_result"
    },
    {
     "data": {
      "image/png": "[encoded data removed]",
      "text/plain": [
       "<Figure size 432x288 with 1 Axes>"
      ]
     },
     "metadata": {},
     "output_type": "display_data"
    }
   ],
   "source": [
    "kospi_divd_rt.sub(-1).cumprod().plot()"
   ]
  },
  {
   "cell_type": "markdown",
   "metadata": {},
   "source": [
    "## 코스닥"
   ]
  },
  {
   "cell_type": "code",
   "execution_count": 18,
   "metadata": {},
   "outputs": [
    {
     "data": {
      "text/plain": [
       "<matplotlib.axes._subplots.AxesSubplot at 0x1f5383f95f8>"
      ]
     },
     "execution_count": 18,
     "metadata": {},
     "output_type": "execute_result"
    },
    {
     "data": {
      "image/png": "[encoded data removed]",
      "text/plain": [
       "<Figure size 432x288 with 1 Axes>"
      ]
     },
     "metadata": {},
     "output_type": "display_data"
    }
   ],
   "source": [
    "kosdaq_divd_rt.sub(-1).cumprod().plot()"
   ]
  },
  {
   "cell_type": "markdown",
   "metadata": {},
   "source": [
    "## 배당을 공시하지 않은 주식의 수익률"
   ]
  },
  {
   "cell_type": "markdown",
   "metadata": {},
   "source": [
    "## 각 시장 별 배당 공시를 하지 않는 주식의 수"
   ]
  },
  {
   "cell_type": "code",
   "execution_count": 19,
   "metadata": {},
   "outputs": [],
   "source": [
    "kospi_div_not_stock = KOSPI.stock_screen(screen=~kse_div, freq = 'A')\n",
    "kosdaq_div_not_stock = KOSDAQ.stock_screen(screen=~kdq_div, freq = 'A')"
   ]
  },
  {
   "cell_type": "code",
   "execution_count": 20,
   "metadata": {},
   "outputs": [
    {
     "name": "stdout",
     "output_type": "stream",
     "text": [
      "00.12.31: 353\n",
      "01.12.31: 364\n",
      "02.12.31: 318\n",
      "03.12.31: 269\n",
      "04.12.31: 250\n",
      "05.12.31: 221\n",
      "06.12.31: 199\n",
      "07.12.31: 203\n",
      "08.12.31: 262\n",
      "09.12.31: 248\n",
      "10.12.31: 216\n",
      "11.12.31: 237\n",
      "12.12.31: 251\n",
      "13.12.31: 262\n",
      "14.12.31: 250\n",
      "15.12.31: 252\n",
      "16.12.31: 227\n",
      "17.12.31: 222\n"
     ]
    }
   ],
   "source": [
    "for key, value in kospi_div_not_stock.items():\n",
    "    \n",
    "    print(f\"{key.strftime('%y.%m.%d')}: {len(value)}\")"
   ]
  },
  {
   "cell_type": "code",
   "execution_count": 21,
   "metadata": {},
   "outputs": [
    {
     "name": "stdout",
     "output_type": "stream",
     "text": [
      "00.12.31: 353\n",
      "01.12.31: 364\n",
      "02.12.31: 318\n",
      "03.12.31: 269\n",
      "04.12.31: 250\n",
      "05.12.31: 221\n",
      "06.12.31: 199\n",
      "07.12.31: 203\n",
      "08.12.31: 262\n",
      "09.12.31: 248\n",
      "10.12.31: 216\n",
      "11.12.31: 237\n",
      "12.12.31: 251\n",
      "13.12.31: 262\n",
      "14.12.31: 250\n",
      "15.12.31: 252\n",
      "16.12.31: 227\n",
      "17.12.31: 222\n"
     ]
    }
   ],
   "source": [
    "for key, value in kospi_div_not_stock.items():\n",
    "    \n",
    "    print(f\"{key.strftime('%y.%m.%d')}: {len(value)}\")"
   ]
  },
  {
   "cell_type": "markdown",
   "metadata": {},
   "source": [
    "## 배당을 공시하지 않은 주식의 1년간 백테스팅"
   ]
  },
  {
   "cell_type": "code",
   "execution_count": 22,
   "metadata": {},
   "outputs": [],
   "source": [
    "kospi_divd_not_rt = KOSPI.backtest(screen=~kse_div,freq_date='A',freq_stock='A')\n",
    "kosdaq_divd_not_rt = KOSDAQ.backtest(screen=~kdq_div,freq_date='A',freq_stock='A')"
   ]
  },
  {
   "cell_type": "markdown",
   "metadata": {},
   "source": [
    "## 코스피"
   ]
  },
  {
   "cell_type": "code",
   "execution_count": 23,
   "metadata": {},
   "outputs": [
    {
     "data": {
      "text/plain": [
       "<matplotlib.axes._subplots.AxesSubplot at 0x1f537cf9358>"
      ]
     },
     "execution_count": 23,
     "metadata": {},
     "output_type": "execute_result"
    },
    {
     "data": {
      "image/png": "[encoded data removed]",
      "text/plain": [
       "<Figure size 432x288 with 1 Axes>"
      ]
     },
     "metadata": {},
     "output_type": "display_data"
    }
   ],
   "source": [
    "kospi_divd_not_rt.sub(-1).cumprod().plot()"
   ]
  },
  {
   "cell_type": "markdown",
   "metadata": {},
   "source": [
    "## 주의 \n",
    "\n",
    "### 코스피의 경우 극단값이 있어서 수익률이 튐. 이를 조정해주어야 함\n",
    "\n",
    "만약 일일 수익률이 0.3을 넘길 경우 이를 0.3으로 조정"
   ]
  },
  {
   "cell_type": "code",
   "execution_count": 24,
   "metadata": {},
   "outputs": [],
   "source": [
    "KOSPI_rt = KOSPI.ret()\n",
    "KOSPI_rt[KOSPI_rt > 0.3] = 0.3\n",
    "norm_list, st_list, ed_list = KOSPI.back_date(~kse_div, 'A')\n",
    "stocks = KOSPI.stock_screen(~kse_div, 'A')\n",
    "\n",
    "KOSPI_divd_not_adj_rt = pd.Series()"
   ]
  },
  {
   "cell_type": "code",
   "execution_count": 25,
   "metadata": {},
   "outputs": [],
   "source": [
    "for n_start, start, end in zip(norm_list, st_list, ed_list):\n",
    "\n",
    "    KOSPI_divd_not_adj_rt = pd.concat([KOSPI_divd_not_adj_rt, KOSPI_rt[stocks[n_start]].loc[start:end].mean(axis=1)])"
   ]
  },
  {
   "cell_type": "code",
   "execution_count": 26,
   "metadata": {},
   "outputs": [
    {
     "data": {
      "text/plain": [
       "<matplotlib.axes._subplots.AxesSubplot at 0x1f53867feb8>"
      ]
     },
     "execution_count": 26,
     "metadata": {},
     "output_type": "execute_result"
    },
    {
     "data": {
      "image/png": "[encoded data removed]",
      "text/plain": [
       "<Figure size 432x288 with 1 Axes>"
      ]
     },
     "metadata": {},
     "output_type": "display_data"
    }
   ],
   "source": [
    "KOSPI_divd_not_adj_rt.sub(-1).cumprod().plot()"
   ]
  },
  {
   "cell_type": "markdown",
   "metadata": {},
   "source": [
    "## 코스닥"
   ]
  },
  {
   "cell_type": "code",
   "execution_count": 27,
   "metadata": {},
   "outputs": [
    {
     "data": {
      "text/plain": [
       "<matplotlib.axes._subplots.AxesSubplot at 0x1f53867f080>"
      ]
     },
     "execution_count": 27,
     "metadata": {},
     "output_type": "execute_result"
    },
    {
     "data": {
      "image/png": "[encoded data removed]",
      "text/plain": [
       "<Figure size 432x288 with 1 Axes>"
      ]
     },
     "metadata": {},
     "output_type": "display_data"
    }
   ],
   "source": [
    "kosdaq_divd_not_rt.sub(-1).cumprod().plot()"
   ]
  },
  {
   "cell_type": "markdown",
   "metadata": {},
   "source": [
    "## 성과평가"
   ]
  },
  {
   "cell_type": "code",
   "execution_count": 28,
   "metadata": {},
   "outputs": [],
   "source": [
    "from FileOpener.backtester import PfAnalysis"
   ]
  },
  {
   "cell_type": "markdown",
   "metadata": {},
   "source": [
    "## 코스피"
   ]
  },
  {
   "cell_type": "code",
   "execution_count": 29,
   "metadata": {},
   "outputs": [],
   "source": [
    "pf_kosdaq_divd = PfAnalysis(kosdaq_divd_rt)\n",
    "pf_kosdaq_divd_not = PfAnalysis(kosdaq_divd_not_rt)"
   ]
  },
  {
   "cell_type": "code",
   "execution_count": 30,
   "metadata": {},
   "outputs": [
    {
     "name": "stdout",
     "output_type": "stream",
     "text": [
      "Maximum Drawdown\n",
      "\n",
      "KOSDAQ_Dividend: 58.59%\n",
      "KOSDAQ_Not_Dividend: 68.67%\n"
     ]
    }
   ],
   "source": [
    "print(\"Maximum Drawdown\")\n",
    "print(\"\")\n",
    "print(f\"KOSDAQ_Dividend: {abs(round(pf_kosdaq_divd.maxDrawDown() * 100, 2))}%\")\n",
    "print(f\"KOSDAQ_Not_Dividend: {abs(round(pf_kosdaq_divd_not.maxDrawDown() * 100, 2))}%\")"
   ]
  },
  {
   "cell_type": "code",
   "execution_count": 31,
   "metadata": {},
   "outputs": [],
   "source": [
    "kdq_div_prod_rt = kosdaq_divd_rt.sub(-1).prod() - 1\n",
    "kdq_div_not_prod_rt = kosdaq_divd_not_rt.sub(-1).prod() - 1"
   ]
  },
  {
   "cell_type": "code",
   "execution_count": 32,
   "metadata": {},
   "outputs": [
    {
     "name": "stdout",
     "output_type": "stream",
     "text": [
      "Total Return\n",
      "\n",
      "KOSDAQ_Dividend: 1251.79%\n",
      "KOSDAQ_Not_Dividend: 12.72%\n"
     ]
    }
   ],
   "source": [
    "print(\"Total Return\")\n",
    "print(\"\")\n",
    "print(f\"KOSDAQ_Dividend: {round(kdq_div_prod_rt * 100, 2)}%\")\n",
    "print(f\"KOSDAQ_Not_Dividend: {round(kdq_div_not_prod_rt * 100, 2)}%\")"
   ]
  },
  {
   "cell_type": "markdown",
   "metadata": {},
   "source": [
    "## 코스닥"
   ]
  },
  {
   "cell_type": "code",
   "execution_count": 33,
   "metadata": {},
   "outputs": [],
   "source": [
    "pf_kospi_divd = PfAnalysis(kospi_divd_rt)\n",
    "pf_kospi_divd_not = PfAnalysis(KOSPI_divd_not_adj_rt)"
   ]
  },
  {
   "cell_type": "code",
   "execution_count": 34,
   "metadata": {},
   "outputs": [
    {
     "name": "stdout",
     "output_type": "stream",
     "text": [
      "Maximum Drawdown\n",
      "\n",
      "KOSDAQ_Dividend: 56.54%\n",
      "KOSDAQ_Not_Dividend: 61.38%\n"
     ]
    }
   ],
   "source": [
    "print(\"Maximum Drawdown\")\n",
    "print(\"\")\n",
    "print(f\"KOSDAQ_Dividend: {abs(round(pf_kospi_divd.maxDrawDown() * 100, 2))}%\")\n",
    "print(f\"KOSDAQ_Not_Dividend: {abs(round(pf_kospi_divd_not.maxDrawDown() * 100, 2))}%\")"
   ]
  },
  {
   "cell_type": "code",
   "execution_count": 35,
   "metadata": {},
   "outputs": [],
   "source": [
    "kse_div_prod_rt = kospi_divd_rt.sub(-1).prod() - 1\n",
    "kse_div_not_prod_rt = KOSPI_divd_not_adj_rt.sub(-1).prod() - 1"
   ]
  },
  {
   "cell_type": "code",
   "execution_count": 36,
   "metadata": {},
   "outputs": [
    {
     "name": "stdout",
     "output_type": "stream",
     "text": [
      "Total Return\n",
      "\n",
      "KOSDAQ_Dividend: 1531.42%\n",
      "KOSDAQ_Not_Dividend: 212.29%\n"
     ]
    }
   ],
   "source": [
    "print(\"Total Return\")\n",
    "print(\"\")\n",
    "print(f\"KOSDAQ_Dividend: {round(kse_div_prod_rt * 100, 2)}%\")\n",
    "print(f\"KOSDAQ_Not_Dividend: {round(kse_div_not_prod_rt * 100, 2)}%\")"
   ]
  },
  {
   "cell_type": "markdown",
   "metadata": {},
   "source": [
    "## CAGR 연습함수"
   ]
  },
  {
   "cell_type": "code",
   "execution_count": 39,
   "metadata": {},
   "outputs": [],
   "source": [
    "from dateutil import relativedelta"
   ]
  },
  {
   "cell_type": "code",
   "execution_count": 54,
   "metadata": {},
   "outputs": [],
   "source": [
    "date = pd.to_datetime('2017-01-01')\n",
    "date_1 = pd.to_datetime('2018-06-30')"
   ]
  },
  {
   "cell_type": "code",
   "execution_count": 61,
   "metadata": {},
   "outputs": [],
   "source": [
    "dayobj = relativedelta.relativedelta(date_1, date)\n",
    "year = dayobj.years\n",
    "month = dayobj.months\n",
    "days = 1 if dayobj.days > 15 else 0"
   ]
  },
  {
   "cell_type": "code",
   "execution_count": 67,
   "metadata": {},
   "outputs": [],
   "source": [
    "def cagr(data, date_1, date_0):\n",
    "\n",
    "    ret = data + 1\n",
    "\n",
    "    dayobj = relativedelta.relativedelta(date_1, date_0)\n",
    "    year = dayobj.years\n",
    "    month = dayobj.months\n",
    "    days = 1 if dayobj.days > 15 else 0\n",
    "\n",
    "    return ret ** (1/ (year + (month+days)/12))"
   ]
  },
  {
   "cell_type": "code",
   "execution_count": 70,
   "metadata": {},
   "outputs": [
    {
     "data": {
      "text/plain": [
       "1.065308908604625"
      ]
     },
     "execution_count": 70,
     "metadata": {},
     "output_type": "execute_result"
    }
   ],
   "source": [
    "cagr(kse_div_not_prod_rt, KOSPI_divd_not_adj_rt.index[-1], KOSPI_divd_not_adj_rt.index[0])"
   ]
  }
 ],
 "metadata": {
  "kernelspec": {
   "display_name": "Python 3",
   "language": "python",
   "name": "python3"
  },
  "language_info": {
   "codemirror_mode": {
    "name": "ipython",
    "version": 3
   },
   "file_extension": ".py",
   "mimetype": "text/x-python",
   "name": "python",
   "nbconvert_exporter": "python",
   "pygments_lexer": "ipython3",
   "version": "3.6.5"
  }
 },
 "nbformat": 4,
 "nbformat_minor": 2
}
