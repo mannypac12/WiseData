{
 "cells": [
  {
   "cell_type": "code",
   "execution_count": 66,
   "metadata": {},
   "outputs": [],
   "source": [
    "import pandas as pd\n",
    "from pandas.tseries.offsets import MonthEnd\n",
    "from FileOpener.CSVReader.CSVReader import CSVReader as csv\n",
    "import numpy as np\n",
    "import matplotlib \n",
    "\n",
    "%matplotlib inline"
   ]
  },
  {
   "cell_type": "markdown",
   "metadata": {},
   "source": [
    "# Bring the file\n",
    "\n",
    "## Price Data\n",
    "\n",
    "### 코스피\n",
    "-- 00.07.01 ~ 18.12.31\n",
    "### 당기순익(분기)\n",
    "-- 00.1Q ~ 18.3Q"
   ]
  },
  {
   "cell_type": "code",
   "execution_count": 73,
   "metadata": {},
   "outputs": [],
   "source": [
    "prc_dir = 'CSVFile/Price/Korea/Stocks'\n",
    "fin_dir = 'CSVFile/FinancialData/Korea'\n",
    "\n",
    "price_data = csv.price_reader(filename = 'KOSPI_FROM_1998_close.csv', directory = prc_dir).loc['2000-07-01':'2018-12-31']\n",
    "fin_data = csv.financial_reader(filename = 'NET_INCOME_KSE.csv', directory = fin_dir)"
   ]
  },
  {
   "cell_type": "markdown",
   "metadata": {},
   "source": [
    "### 가격 데이터 개괄"
   ]
  },
  {
   "cell_type": "code",
   "execution_count": 74,
   "metadata": {},
   "outputs": [
    {
     "name": "stdout",
     "output_type": "stream",
     "text": [
      "코스피 내 거래종목: 1192\n",
      "총 거래일수: 4569\n"
     ]
    }
   ],
   "source": [
    "print(f\"코스피 내 거래종목: {price_data.shape[1]}\")\n",
    "print(f\"총 거래일수: {price_data.shape[0]}\")"
   ]
  },
  {
   "cell_type": "markdown",
   "metadata": {},
   "source": [
    "### 재무 데이터 개괄"
   ]
  },
  {
   "cell_type": "code",
   "execution_count": 75,
   "metadata": {},
   "outputs": [
    {
     "name": "stdout",
     "output_type": "stream",
     "text": [
      "코스피 내 거래종목: 1192\n",
      "총 분기: 75\n"
     ]
    }
   ],
   "source": [
    "print(f\"코스피 내 거래종목: {fin_data.shape[1]}\")\n",
    "print(f\"총 분기: {fin_data.shape[0]}\")"
   ]
  },
  {
   "cell_type": "markdown",
   "metadata": {},
   "source": [
    "# 데이터 조정"
   ]
  },
  {
   "cell_type": "markdown",
   "metadata": {},
   "source": [
    "## 재무 데이터 조정\n",
    "### Look Back Bias 방지를 위해 당분기 데이터를 다음분기 데이터로 조정"
   ]
  },
  {
   "cell_type": "code",
   "execution_count": 76,
   "metadata": {},
   "outputs": [],
   "source": [
    "net_income = fin_data.shift(1).dropna(axis = 0, how = 'all')"
   ]
  },
  {
   "cell_type": "markdown",
   "metadata": {},
   "source": [
    "## 당기순익 적자 / 흑자 구분\n",
    "\n",
    "### 만약 데이터가 NaN 값인 경우는 NaN 값으로 반환 해주어야 함"
   ]
  },
  {
   "cell_type": "code",
   "execution_count": 77,
   "metadata": {},
   "outputs": [],
   "source": [
    "def plus_to_nan(x):\n",
    "    \n",
    "    if x < 0: \n",
    "        return False\n",
    "    elif x >= 0: \n",
    "        return True\n",
    "    else:\n",
    "        return np.nan\n",
    "\n",
    "net_income_plus = net_income.applymap(plus_to_nan)"
   ]
  },
  {
   "cell_type": "code",
   "execution_count": 78,
   "metadata": {},
   "outputs": [
    {
     "data": {
      "text/html": [
       "<div>\n",
       "<style scoped>\n",
       "    .dataframe tbody tr th:only-of-type {\n",
       "        vertical-align: middle;\n",
       "    }\n",
       "\n",
       "    .dataframe tbody tr th {\n",
       "        vertical-align: top;\n",
       "    }\n",
       "\n",
       "    .dataframe thead th {\n",
       "        text-align: right;\n",
       "    }\n",
       "</style>\n",
       "<table border=\"1\" class=\"dataframe\">\n",
       "  <thead>\n",
       "    <tr style=\"text-align: right;\">\n",
       "      <th></th>\n",
       "      <th>A000010</th>\n",
       "      <th>A000020</th>\n",
       "      <th>A000030</th>\n",
       "      <th>A000040</th>\n",
       "      <th>A000050</th>\n",
       "      <th>A000060</th>\n",
       "      <th>A000070</th>\n",
       "      <th>A000080</th>\n",
       "      <th>A000090</th>\n",
       "      <th>A000100</th>\n",
       "      <th>...</th>\n",
       "      <th>A298050</th>\n",
       "      <th>A298690</th>\n",
       "      <th>A300720</th>\n",
       "      <th>A306200</th>\n",
       "      <th>A900030</th>\n",
       "      <th>A900050</th>\n",
       "      <th>A900140</th>\n",
       "      <th>A950010</th>\n",
       "      <th>A950070</th>\n",
       "      <th>A950100</th>\n",
       "    </tr>\n",
       "    <tr>\n",
       "      <th>Code</th>\n",
       "      <th></th>\n",
       "      <th></th>\n",
       "      <th></th>\n",
       "      <th></th>\n",
       "      <th></th>\n",
       "      <th></th>\n",
       "      <th></th>\n",
       "      <th></th>\n",
       "      <th></th>\n",
       "      <th></th>\n",
       "      <th></th>\n",
       "      <th></th>\n",
       "      <th></th>\n",
       "      <th></th>\n",
       "      <th></th>\n",
       "      <th></th>\n",
       "      <th></th>\n",
       "      <th></th>\n",
       "      <th></th>\n",
       "      <th></th>\n",
       "      <th></th>\n",
       "    </tr>\n",
       "  </thead>\n",
       "  <tbody>\n",
       "    <tr>\n",
       "      <th>2000-06-30</th>\n",
       "      <td>True</td>\n",
       "      <td>NaN</td>\n",
       "      <td>True</td>\n",
       "      <td>False</td>\n",
       "      <td>True</td>\n",
       "      <td>NaN</td>\n",
       "      <td>NaN</td>\n",
       "      <td>NaN</td>\n",
       "      <td>NaN</td>\n",
       "      <td>True</td>\n",
       "      <td>...</td>\n",
       "      <td>NaN</td>\n",
       "      <td>NaN</td>\n",
       "      <td>NaN</td>\n",
       "      <td>NaN</td>\n",
       "      <td>NaN</td>\n",
       "      <td>NaN</td>\n",
       "      <td>NaN</td>\n",
       "      <td>NaN</td>\n",
       "      <td>NaN</td>\n",
       "      <td>NaN</td>\n",
       "    </tr>\n",
       "    <tr>\n",
       "      <th>2000-09-30</th>\n",
       "      <td>False</td>\n",
       "      <td>True</td>\n",
       "      <td>False</td>\n",
       "      <td>False</td>\n",
       "      <td>False</td>\n",
       "      <td>NaN</td>\n",
       "      <td>NaN</td>\n",
       "      <td>NaN</td>\n",
       "      <td>NaN</td>\n",
       "      <td>True</td>\n",
       "      <td>...</td>\n",
       "      <td>NaN</td>\n",
       "      <td>NaN</td>\n",
       "      <td>NaN</td>\n",
       "      <td>NaN</td>\n",
       "      <td>NaN</td>\n",
       "      <td>NaN</td>\n",
       "      <td>NaN</td>\n",
       "      <td>NaN</td>\n",
       "      <td>NaN</td>\n",
       "      <td>NaN</td>\n",
       "    </tr>\n",
       "    <tr>\n",
       "      <th>2000-12-31</th>\n",
       "      <td>True</td>\n",
       "      <td>True</td>\n",
       "      <td>False</td>\n",
       "      <td>False</td>\n",
       "      <td>True</td>\n",
       "      <td>NaN</td>\n",
       "      <td>True</td>\n",
       "      <td>NaN</td>\n",
       "      <td>NaN</td>\n",
       "      <td>True</td>\n",
       "      <td>...</td>\n",
       "      <td>NaN</td>\n",
       "      <td>NaN</td>\n",
       "      <td>NaN</td>\n",
       "      <td>NaN</td>\n",
       "      <td>NaN</td>\n",
       "      <td>NaN</td>\n",
       "      <td>NaN</td>\n",
       "      <td>NaN</td>\n",
       "      <td>NaN</td>\n",
       "      <td>NaN</td>\n",
       "    </tr>\n",
       "    <tr>\n",
       "      <th>2001-03-31</th>\n",
       "      <td>False</td>\n",
       "      <td>True</td>\n",
       "      <td>False</td>\n",
       "      <td>False</td>\n",
       "      <td>False</td>\n",
       "      <td>False</td>\n",
       "      <td>True</td>\n",
       "      <td>False</td>\n",
       "      <td>NaN</td>\n",
       "      <td>True</td>\n",
       "      <td>...</td>\n",
       "      <td>NaN</td>\n",
       "      <td>NaN</td>\n",
       "      <td>NaN</td>\n",
       "      <td>NaN</td>\n",
       "      <td>NaN</td>\n",
       "      <td>NaN</td>\n",
       "      <td>NaN</td>\n",
       "      <td>NaN</td>\n",
       "      <td>NaN</td>\n",
       "      <td>NaN</td>\n",
       "    </tr>\n",
       "    <tr>\n",
       "      <th>2001-06-30</th>\n",
       "      <td>True</td>\n",
       "      <td>True</td>\n",
       "      <td>True</td>\n",
       "      <td>True</td>\n",
       "      <td>True</td>\n",
       "      <td>True</td>\n",
       "      <td>True</td>\n",
       "      <td>False</td>\n",
       "      <td>NaN</td>\n",
       "      <td>True</td>\n",
       "      <td>...</td>\n",
       "      <td>NaN</td>\n",
       "      <td>NaN</td>\n",
       "      <td>NaN</td>\n",
       "      <td>NaN</td>\n",
       "      <td>NaN</td>\n",
       "      <td>NaN</td>\n",
       "      <td>NaN</td>\n",
       "      <td>NaN</td>\n",
       "      <td>NaN</td>\n",
       "      <td>NaN</td>\n",
       "    </tr>\n",
       "  </tbody>\n",
       "</table>\n",
       "<p>5 rows × 1192 columns</p>\n",
       "</div>"
      ],
      "text/plain": [
       "            A000010 A000020  A000030  A000040  A000050 A000060 A000070  \\\n",
       "Code                                                                     \n",
       "2000-06-30     True     NaN     True    False     True     NaN     NaN   \n",
       "2000-09-30    False    True    False    False    False     NaN     NaN   \n",
       "2000-12-31     True    True    False    False     True     NaN    True   \n",
       "2001-03-31    False    True    False    False    False   False    True   \n",
       "2001-06-30     True    True     True     True     True    True    True   \n",
       "\n",
       "           A000080  A000090  A000100   ...     A298050  A298690  A300720  \\\n",
       "Code                                   ...                                 \n",
       "2000-06-30     NaN      NaN     True   ...         NaN      NaN      NaN   \n",
       "2000-09-30     NaN      NaN     True   ...         NaN      NaN      NaN   \n",
       "2000-12-31     NaN      NaN     True   ...         NaN      NaN      NaN   \n",
       "2001-03-31   False      NaN     True   ...         NaN      NaN      NaN   \n",
       "2001-06-30   False      NaN     True   ...         NaN      NaN      NaN   \n",
       "\n",
       "            A306200  A900030  A900050  A900140 A950010 A950070  A950100  \n",
       "Code                                                                     \n",
       "2000-06-30      NaN      NaN      NaN      NaN     NaN     NaN      NaN  \n",
       "2000-09-30      NaN      NaN      NaN      NaN     NaN     NaN      NaN  \n",
       "2000-12-31      NaN      NaN      NaN      NaN     NaN     NaN      NaN  \n",
       "2001-03-31      NaN      NaN      NaN      NaN     NaN     NaN      NaN  \n",
       "2001-06-30      NaN      NaN      NaN      NaN     NaN     NaN      NaN  \n",
       "\n",
       "[5 rows x 1192 columns]"
      ]
     },
     "execution_count": 78,
     "metadata": {},
     "output_type": "execute_result"
    }
   ],
   "source": [
    "net_income_plus.head()"
   ]
  },
  {
   "cell_type": "markdown",
   "metadata": {},
   "source": [
    "## 수익률 산출\n",
    "\n",
    "### 수익률 계산시 극단값 조정"
   ]
  },
  {
   "cell_type": "code",
   "execution_count": 79,
   "metadata": {},
   "outputs": [],
   "source": [
    "price_rt = price_data.pct_change().dropna(axis = 0, how = 'all')"
   ]
  },
  {
   "cell_type": "code",
   "execution_count": 80,
   "metadata": {},
   "outputs": [
    {
     "data": {
      "text/plain": [
       "367"
      ]
     },
     "execution_count": 80,
     "metadata": {},
     "output_type": "execute_result"
    }
   ],
   "source": [
    "((price_rt > 0.3).sum()).sum() "
   ]
  },
  {
   "cell_type": "code",
   "execution_count": 81,
   "metadata": {},
   "outputs": [],
   "source": [
    "price_rt[price_rt > 0.3] = 0.3"
   ]
  },
  {
   "cell_type": "markdown",
   "metadata": {},
   "source": [
    "## 주식 유니버스 선정"
   ]
  },
  {
   "cell_type": "code",
   "execution_count": 82,
   "metadata": {},
   "outputs": [],
   "source": [
    "## Universe\n",
    "none_invest = net_income_plus.isnull()\n",
    "plus_invest = net_income_plus == True\n",
    "minus_invest = (net_income_plus == False) & ~none_invest"
   ]
  },
  {
   "cell_type": "markdown",
   "metadata": {},
   "source": [
    "## 당기순익 적자"
   ]
  },
  {
   "cell_type": "code",
   "execution_count": 85,
   "metadata": {},
   "outputs": [
    {
     "data": {
      "text/html": [
       "<div>\n",
       "<style scoped>\n",
       "    .dataframe tbody tr th:only-of-type {\n",
       "        vertical-align: middle;\n",
       "    }\n",
       "\n",
       "    .dataframe tbody tr th {\n",
       "        vertical-align: top;\n",
       "    }\n",
       "\n",
       "    .dataframe thead th {\n",
       "        text-align: right;\n",
       "    }\n",
       "</style>\n",
       "<table border=\"1\" class=\"dataframe\">\n",
       "  <thead>\n",
       "    <tr style=\"text-align: right;\">\n",
       "      <th></th>\n",
       "      <th>A000010</th>\n",
       "      <th>A000020</th>\n",
       "      <th>A000030</th>\n",
       "      <th>A000040</th>\n",
       "      <th>A000050</th>\n",
       "      <th>A000060</th>\n",
       "      <th>A000070</th>\n",
       "      <th>A000080</th>\n",
       "      <th>A000090</th>\n",
       "      <th>A000100</th>\n",
       "      <th>...</th>\n",
       "      <th>A298050</th>\n",
       "      <th>A298690</th>\n",
       "      <th>A300720</th>\n",
       "      <th>A306200</th>\n",
       "      <th>A900030</th>\n",
       "      <th>A900050</th>\n",
       "      <th>A900140</th>\n",
       "      <th>A950010</th>\n",
       "      <th>A950070</th>\n",
       "      <th>A950100</th>\n",
       "    </tr>\n",
       "    <tr>\n",
       "      <th>Code</th>\n",
       "      <th></th>\n",
       "      <th></th>\n",
       "      <th></th>\n",
       "      <th></th>\n",
       "      <th></th>\n",
       "      <th></th>\n",
       "      <th></th>\n",
       "      <th></th>\n",
       "      <th></th>\n",
       "      <th></th>\n",
       "      <th></th>\n",
       "      <th></th>\n",
       "      <th></th>\n",
       "      <th></th>\n",
       "      <th></th>\n",
       "      <th></th>\n",
       "      <th></th>\n",
       "      <th></th>\n",
       "      <th></th>\n",
       "      <th></th>\n",
       "      <th></th>\n",
       "    </tr>\n",
       "  </thead>\n",
       "  <tbody>\n",
       "    <tr>\n",
       "      <th>2000-06-30</th>\n",
       "      <td>False</td>\n",
       "      <td>False</td>\n",
       "      <td>False</td>\n",
       "      <td>True</td>\n",
       "      <td>False</td>\n",
       "      <td>False</td>\n",
       "      <td>False</td>\n",
       "      <td>False</td>\n",
       "      <td>False</td>\n",
       "      <td>False</td>\n",
       "      <td>...</td>\n",
       "      <td>False</td>\n",
       "      <td>False</td>\n",
       "      <td>False</td>\n",
       "      <td>False</td>\n",
       "      <td>False</td>\n",
       "      <td>False</td>\n",
       "      <td>False</td>\n",
       "      <td>False</td>\n",
       "      <td>False</td>\n",
       "      <td>False</td>\n",
       "    </tr>\n",
       "    <tr>\n",
       "      <th>2000-09-30</th>\n",
       "      <td>True</td>\n",
       "      <td>False</td>\n",
       "      <td>True</td>\n",
       "      <td>True</td>\n",
       "      <td>True</td>\n",
       "      <td>False</td>\n",
       "      <td>False</td>\n",
       "      <td>False</td>\n",
       "      <td>False</td>\n",
       "      <td>False</td>\n",
       "      <td>...</td>\n",
       "      <td>False</td>\n",
       "      <td>False</td>\n",
       "      <td>False</td>\n",
       "      <td>False</td>\n",
       "      <td>False</td>\n",
       "      <td>False</td>\n",
       "      <td>False</td>\n",
       "      <td>False</td>\n",
       "      <td>False</td>\n",
       "      <td>False</td>\n",
       "    </tr>\n",
       "    <tr>\n",
       "      <th>2000-12-31</th>\n",
       "      <td>False</td>\n",
       "      <td>False</td>\n",
       "      <td>True</td>\n",
       "      <td>True</td>\n",
       "      <td>False</td>\n",
       "      <td>False</td>\n",
       "      <td>False</td>\n",
       "      <td>False</td>\n",
       "      <td>False</td>\n",
       "      <td>False</td>\n",
       "      <td>...</td>\n",
       "      <td>False</td>\n",
       "      <td>False</td>\n",
       "      <td>False</td>\n",
       "      <td>False</td>\n",
       "      <td>False</td>\n",
       "      <td>False</td>\n",
       "      <td>False</td>\n",
       "      <td>False</td>\n",
       "      <td>False</td>\n",
       "      <td>False</td>\n",
       "    </tr>\n",
       "    <tr>\n",
       "      <th>2001-03-31</th>\n",
       "      <td>True</td>\n",
       "      <td>False</td>\n",
       "      <td>True</td>\n",
       "      <td>True</td>\n",
       "      <td>True</td>\n",
       "      <td>True</td>\n",
       "      <td>False</td>\n",
       "      <td>True</td>\n",
       "      <td>False</td>\n",
       "      <td>False</td>\n",
       "      <td>...</td>\n",
       "      <td>False</td>\n",
       "      <td>False</td>\n",
       "      <td>False</td>\n",
       "      <td>False</td>\n",
       "      <td>False</td>\n",
       "      <td>False</td>\n",
       "      <td>False</td>\n",
       "      <td>False</td>\n",
       "      <td>False</td>\n",
       "      <td>False</td>\n",
       "    </tr>\n",
       "    <tr>\n",
       "      <th>2001-06-30</th>\n",
       "      <td>False</td>\n",
       "      <td>False</td>\n",
       "      <td>False</td>\n",
       "      <td>False</td>\n",
       "      <td>False</td>\n",
       "      <td>False</td>\n",
       "      <td>False</td>\n",
       "      <td>True</td>\n",
       "      <td>False</td>\n",
       "      <td>False</td>\n",
       "      <td>...</td>\n",
       "      <td>False</td>\n",
       "      <td>False</td>\n",
       "      <td>False</td>\n",
       "      <td>False</td>\n",
       "      <td>False</td>\n",
       "      <td>False</td>\n",
       "      <td>False</td>\n",
       "      <td>False</td>\n",
       "      <td>False</td>\n",
       "      <td>False</td>\n",
       "    </tr>\n",
       "  </tbody>\n",
       "</table>\n",
       "<p>5 rows × 1192 columns</p>\n",
       "</div>"
      ],
      "text/plain": [
       "            A000010  A000020  A000030  A000040  A000050  A000060  A000070  \\\n",
       "Code                                                                        \n",
       "2000-06-30    False    False    False     True    False    False    False   \n",
       "2000-09-30     True    False     True     True     True    False    False   \n",
       "2000-12-31    False    False     True     True    False    False    False   \n",
       "2001-03-31     True    False     True     True     True     True    False   \n",
       "2001-06-30    False    False    False    False    False    False    False   \n",
       "\n",
       "            A000080  A000090  A000100   ...     A298050  A298690  A300720  \\\n",
       "Code                                    ...                                 \n",
       "2000-06-30    False    False    False   ...       False    False    False   \n",
       "2000-09-30    False    False    False   ...       False    False    False   \n",
       "2000-12-31    False    False    False   ...       False    False    False   \n",
       "2001-03-31     True    False    False   ...       False    False    False   \n",
       "2001-06-30     True    False    False   ...       False    False    False   \n",
       "\n",
       "            A306200  A900030  A900050  A900140  A950010  A950070  A950100  \n",
       "Code                                                                       \n",
       "2000-06-30    False    False    False    False    False    False    False  \n",
       "2000-09-30    False    False    False    False    False    False    False  \n",
       "2000-12-31    False    False    False    False    False    False    False  \n",
       "2001-03-31    False    False    False    False    False    False    False  \n",
       "2001-06-30    False    False    False    False    False    False    False  \n",
       "\n",
       "[5 rows x 1192 columns]"
      ]
     },
     "execution_count": 85,
     "metadata": {},
     "output_type": "execute_result"
    }
   ],
   "source": [
    "minus_invest.head()"
   ]
  },
  {
   "cell_type": "markdown",
   "metadata": {},
   "source": [
    "## 각 분기별 해당 종목 산출"
   ]
  },
  {
   "cell_type": "code",
   "execution_count": 86,
   "metadata": {},
   "outputs": [],
   "source": [
    "minus_data = {}\n",
    "date_index = minus_invest.index\n",
    "\n",
    "for date in date_index:\n",
    "\n",
    "    minus_data[date] = (minus_invest.loc[date][minus_invest.loc[date] == True]).index"
   ]
  },
  {
   "cell_type": "markdown",
   "metadata": {},
   "source": [
    "## 해당 종목 동일가중 포트폴리오의 Composit Return 계산"
   ]
  },
  {
   "cell_type": "code",
   "execution_count": 87,
   "metadata": {},
   "outputs": [],
   "source": [
    "## Quartarly Change\n",
    "\n",
    "## invest Date\n",
    "lag_invest_dates = list(minus_data.keys())[1:]\n",
    "invest_dates = list(minus_data.keys())[:-1]\n",
    "\n",
    "ret_data = pd.Series()\n",
    "\n",
    "for cur_date, lag_date in zip(invest_dates, lag_invest_dates):\n",
    "    \n",
    "    ret_data = pd.concat([ret_data, (price_rt.loc[cur_date:lag_date][minus_data[cur_date]]).mean(axis = 1, skipna=True)])"
   ]
  },
  {
   "cell_type": "markdown",
   "metadata": {},
   "source": [
    "## 상폐 종목의 예시"
   ]
  },
  {
   "cell_type": "code",
   "execution_count": 56,
   "metadata": {},
   "outputs": [
    {
     "data": {
      "text/plain": [
       "D A T E\n",
       "2001-06-01   -0.473684\n",
       "2001-06-04   -0.300000\n",
       "2001-06-05   -0.142857\n",
       "2001-06-07    0.000000\n",
       "Name: A000280, dtype: float64"
      ]
     },
     "execution_count": 56,
     "metadata": {},
     "output_type": "execute_result"
    }
   ],
   "source": [
    "price_rt['A000280'].loc['2001-06-01':'2001-06-07']"
   ]
  },
  {
   "cell_type": "markdown",
   "metadata": {},
   "source": [
    "## 성과평가\n"
   ]
  },
  {
   "cell_type": "code",
   "execution_count": 138,
   "metadata": {},
   "outputs": [],
   "source": [
    "from pf_anlysis import PfAnalysis as pf"
   ]
  },
  {
   "cell_type": "code",
   "execution_count": 139,
   "metadata": {},
   "outputs": [],
   "source": [
    "net_minus_rt = pf(ret_data)"
   ]
  },
  {
   "cell_type": "code",
   "execution_count": 128,
   "metadata": {},
   "outputs": [
    {
     "data": {
      "text/plain": [
       "<matplotlib.axes._subplots.AxesSubplot at 0x2a9a0343f98>"
      ]
     },
     "execution_count": 128,
     "metadata": {},
     "output_type": "execute_result"
    },
    {
     "data": {
      "image/png": "[encoded data removed]",
      "text/plain": [
       "<Figure size 432x288 with 1 Axes>"
      ]
     },
     "metadata": {},
     "output_type": "display_data"
    }
   ],
   "source": [
    "net_minus_rt.cumReturn().sub(1).plot()"
   ]
  },
  {
   "cell_type": "code",
   "execution_count": 144,
   "metadata": {},
   "outputs": [
    {
     "data": {
      "text/plain": [
       "2000-12-31     -4.00%\n",
       "2001-12-31     24.63%\n",
       "2002-12-31    -39.01%\n",
       "2003-12-31    -16.01%\n",
       "2004-12-31     -1.54%\n",
       "2005-12-31    114.13%\n",
       "2006-12-31      1.27%\n",
       "2007-12-31     22.77%\n",
       "2008-12-31    -51.33%\n",
       "2009-12-31     42.66%\n",
       "2010-12-31     -7.88%\n",
       "2011-12-31    -13.21%\n",
       "2012-12-31     -8.25%\n",
       "2013-12-31     -3.04%\n",
       "2014-12-31      5.75%\n",
       "2015-12-31     38.57%\n",
       "2016-12-31     -1.39%\n",
       "2017-12-31     -4.69%\n",
       "2018-12-31     15.11%\n",
       "Freq: A-DEC, dtype: object"
      ]
     },
     "execution_count": 144,
     "metadata": {},
     "output_type": "execute_result"
    }
   ],
   "source": [
    "net_minus_rt.data.resample('A').prod().sub(1).apply(lambda x: '{:.2%}'.format(x))"
   ]
  },
  {
   "cell_type": "code",
   "execution_count": 149,
   "metadata": {},
   "outputs": [
    {
     "name": "stdout",
     "output_type": "stream",
     "text": [
      "MDD in One Year is 64.49%\n"
     ]
    }
   ],
   "source": [
    "print(f\"MDD in One Year is {abs(round(net_minus_rt.maxDrawDown()*100, 2))}%\")"
   ]
  },
  {
   "cell_type": "code",
   "execution_count": 161,
   "metadata": {},
   "outputs": [
    {
     "name": "stdout",
     "output_type": "stream",
     "text": [
      "Total Cummlative Return is 25.76%\n"
     ]
    }
   ],
   "source": [
    "print(f\"Total Cummlative Return is {abs(round((net_minus_rt.data.prod() - 1) * 100, 2))}%\")"
   ]
  },
  {
   "cell_type": "markdown",
   "metadata": {},
   "source": [
    "## 당기순익 흑자 기업"
   ]
  },
  {
   "cell_type": "code",
   "execution_count": 151,
   "metadata": {},
   "outputs": [],
   "source": [
    "plus_data = {}\n",
    "date_index = plus_invest.index\n",
    "\n",
    "for date in date_index:\n",
    "\n",
    "    plus_data[date] = (plus_invest.loc[date][plus_invest.loc[date] == True]).index"
   ]
  },
  {
   "cell_type": "code",
   "execution_count": 152,
   "metadata": {},
   "outputs": [],
   "source": [
    "## Quartarly Change\n",
    "\n",
    "## invest Date\n",
    "lag_invest_dates = list(plus_data.keys())[1:]\n",
    "invest_dates = list(plus_data.keys())[:-1]\n",
    "\n",
    "plus_ret_data = pd.Series()\n",
    "\n",
    "for cur_date, lag_date in zip(invest_dates, lag_invest_dates):\n",
    "    \n",
    "    plus_ret_data = pd.concat([plus_ret_data, (price_rt.loc[cur_date:lag_date][plus_data[cur_date]]).mean(axis = 1)])"
   ]
  },
  {
   "cell_type": "code",
   "execution_count": 155,
   "metadata": {},
   "outputs": [],
   "source": [
    "net_plus_rt = pf(plus_ret_data)"
   ]
  },
  {
   "cell_type": "code",
   "execution_count": 156,
   "metadata": {},
   "outputs": [
    {
     "data": {
      "text/plain": [
       "<matplotlib.axes._subplots.AxesSubplot at 0x2a9a02242b0>"
      ]
     },
     "execution_count": 156,
     "metadata": {},
     "output_type": "execute_result"
    },
    {
     "data": {
      "image/png": "[encoded data removed]",
      "text/plain": [
       "<Figure size 432x288 with 1 Axes>"
      ]
     },
     "metadata": {},
     "output_type": "display_data"
    }
   ],
   "source": [
    "net_plus_rt.cumReturn().sub(1).plot()"
   ]
  },
  {
   "cell_type": "code",
   "execution_count": 157,
   "metadata": {},
   "outputs": [
    {
     "data": {
      "text/plain": [
       "2000-12-31    -18.68%\n",
       "2001-12-31     67.01%\n",
       "2002-12-31     -6.26%\n",
       "2003-12-31     19.32%\n",
       "2004-12-31     20.80%\n",
       "2005-12-31    118.13%\n",
       "2006-12-31     13.34%\n",
       "2007-12-31     48.38%\n",
       "2008-12-31    -37.76%\n",
       "2009-12-31     61.30%\n",
       "2010-12-31     24.39%\n",
       "2011-12-31      0.76%\n",
       "2012-12-31     13.54%\n",
       "2013-12-31     13.18%\n",
       "2014-12-31     18.52%\n",
       "2015-12-31     26.28%\n",
       "2016-12-31      1.87%\n",
       "2017-12-31      7.28%\n",
       "2018-12-31      6.59%\n",
       "Freq: A-DEC, dtype: object"
      ]
     },
     "execution_count": 157,
     "metadata": {},
     "output_type": "execute_result"
    }
   ],
   "source": [
    "(net_plus_rt.data.resample('A').prod().sub(1)).apply(lambda x: '{:.2%}'.format(x))"
   ]
  },
  {
   "cell_type": "code",
   "execution_count": 158,
   "metadata": {},
   "outputs": [
    {
     "name": "stdout",
     "output_type": "stream",
     "text": [
      "MDD in One Year is 55.96%\n"
     ]
    }
   ],
   "source": [
    "print(f\"MDD in One Year is {abs(round(net_plus_rt.maxDrawDown()*100, 2))}%\")"
   ]
  },
  {
   "cell_type": "code",
   "execution_count": null,
   "metadata": {},
   "outputs": [],
   "source": []
  }
 ],
 "metadata": {
  "kernelspec": {
   "display_name": "Python [default]",
   "language": "python",
   "name": "python3"
  },
  "language_info": {
   "codemirror_mode": {
    "name": "ipython",
    "version": 3
   },
   "file_extension": ".py",
   "mimetype": "text/x-python",
   "name": "python",
   "nbconvert_exporter": "python",
   "pygments_lexer": "ipython3",
   "version": "3.6.5"
  }
 },
 "nbformat": 4,
 "nbformat_minor": 2
}
