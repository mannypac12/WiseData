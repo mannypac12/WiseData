{
 "cells": [
  {
   "cell_type": "code",
   "execution_count": 43,
   "metadata": {},
   "outputs": [],
   "source": [
    "import pandas as pd\n",
    "import numpy as np\n",
    "from FileOpener.CSVReader.CSVReader import CSVReader as csv\n",
    "import matplotlib.pyplot as plt\n",
    "\n",
    "% matplotlib inline"
   ]
  },
  {
   "cell_type": "code",
   "execution_count": 6,
   "metadata": {},
   "outputs": [],
   "source": [
    "prc_directory = 'CSVFile/Price/Korea/Stocks'\n",
    "kse_file_name = 'KOSPI_FROM_1998_close.csv'\n",
    "kdq_file_name = 'KOSDAQ_FROM_1998_close.csv'\n",
    "\n",
    "kse_price = csv.price_reader(kse_file_name, prc_directory)\n",
    "kdq_price = csv.price_reader(kdq_file_name, prc_directory)"
   ]
  },
  {
   "cell_type": "code",
   "execution_count": 84,
   "metadata": {},
   "outputs": [],
   "source": [
    "kse_rt = kse_price.div(kse_price.shift(1)).dropna(axis=0, how='all').loc[:'2018-12-31']\n",
    "kse_rt[kse_rt > 1.3] = 1.3\n",
    "kdq_rt = kdq_price.div(kdq_price.shift(1)).dropna(axis=0, how='all').loc[:'2018-12-31']"
   ]
  },
  {
   "cell_type": "code",
   "execution_count": 29,
   "metadata": {},
   "outputs": [
    {
     "data": {
      "text/html": [
       "<div>\n",
       "<style scoped>\n",
       "    .dataframe tbody tr th:only-of-type {\n",
       "        vertical-align: middle;\n",
       "    }\n",
       "\n",
       "    .dataframe tbody tr th {\n",
       "        vertical-align: top;\n",
       "    }\n",
       "\n",
       "    .dataframe thead th {\n",
       "        text-align: right;\n",
       "    }\n",
       "</style>\n",
       "<table border=\"1\" class=\"dataframe\">\n",
       "  <thead>\n",
       "    <tr style=\"text-align: right;\">\n",
       "      <th></th>\n",
       "      <th>A000010</th>\n",
       "      <th>A000020</th>\n",
       "      <th>A000030</th>\n",
       "      <th>A000040</th>\n",
       "      <th>A000050</th>\n",
       "      <th>A000060</th>\n",
       "      <th>A000070</th>\n",
       "      <th>A000080</th>\n",
       "      <th>A000090</th>\n",
       "      <th>A000100</th>\n",
       "      <th>...</th>\n",
       "      <th>A298050</th>\n",
       "      <th>A298690</th>\n",
       "      <th>A300720</th>\n",
       "      <th>A306200</th>\n",
       "      <th>A900030</th>\n",
       "      <th>A900050</th>\n",
       "      <th>A900140</th>\n",
       "      <th>A950010</th>\n",
       "      <th>A950070</th>\n",
       "      <th>A950100</th>\n",
       "    </tr>\n",
       "    <tr>\n",
       "      <th>D A T E</th>\n",
       "      <th></th>\n",
       "      <th></th>\n",
       "      <th></th>\n",
       "      <th></th>\n",
       "      <th></th>\n",
       "      <th></th>\n",
       "      <th></th>\n",
       "      <th></th>\n",
       "      <th></th>\n",
       "      <th></th>\n",
       "      <th></th>\n",
       "      <th></th>\n",
       "      <th></th>\n",
       "      <th></th>\n",
       "      <th></th>\n",
       "      <th></th>\n",
       "      <th></th>\n",
       "      <th></th>\n",
       "      <th></th>\n",
       "      <th></th>\n",
       "      <th></th>\n",
       "    </tr>\n",
       "  </thead>\n",
       "  <tbody>\n",
       "    <tr>\n",
       "      <th>1998-01-03</th>\n",
       "      <td>1.028922</td>\n",
       "      <td>0.920833</td>\n",
       "      <td>1.017419</td>\n",
       "      <td>0.923055</td>\n",
       "      <td>1.000000</td>\n",
       "      <td>1.079723</td>\n",
       "      <td>1.078918</td>\n",
       "      <td>1.077551</td>\n",
       "      <td>0.938628</td>\n",
       "      <td>1.076553</td>\n",
       "      <td>...</td>\n",
       "      <td>NaN</td>\n",
       "      <td>NaN</td>\n",
       "      <td>NaN</td>\n",
       "      <td>NaN</td>\n",
       "      <td>NaN</td>\n",
       "      <td>NaN</td>\n",
       "      <td>NaN</td>\n",
       "      <td>NaN</td>\n",
       "      <td>NaN</td>\n",
       "      <td>NaN</td>\n",
       "    </tr>\n",
       "    <tr>\n",
       "      <th>1998-01-05</th>\n",
       "      <td>0.983134</td>\n",
       "      <td>1.079186</td>\n",
       "      <td>0.993152</td>\n",
       "      <td>0.925972</td>\n",
       "      <td>1.035088</td>\n",
       "      <td>1.043339</td>\n",
       "      <td>1.079580</td>\n",
       "      <td>1.079545</td>\n",
       "      <td>1.076923</td>\n",
       "      <td>1.079086</td>\n",
       "      <td>...</td>\n",
       "      <td>NaN</td>\n",
       "      <td>NaN</td>\n",
       "      <td>NaN</td>\n",
       "      <td>NaN</td>\n",
       "      <td>NaN</td>\n",
       "      <td>NaN</td>\n",
       "      <td>NaN</td>\n",
       "      <td>NaN</td>\n",
       "      <td>NaN</td>\n",
       "      <td>NaN</td>\n",
       "    </tr>\n",
       "    <tr>\n",
       "      <th>1998-01-06</th>\n",
       "      <td>0.971409</td>\n",
       "      <td>1.079665</td>\n",
       "      <td>0.972418</td>\n",
       "      <td>1.079947</td>\n",
       "      <td>0.988444</td>\n",
       "      <td>1.000000</td>\n",
       "      <td>1.079917</td>\n",
       "      <td>1.077193</td>\n",
       "      <td>1.078571</td>\n",
       "      <td>1.076895</td>\n",
       "      <td>...</td>\n",
       "      <td>NaN</td>\n",
       "      <td>NaN</td>\n",
       "      <td>NaN</td>\n",
       "      <td>NaN</td>\n",
       "      <td>NaN</td>\n",
       "      <td>NaN</td>\n",
       "      <td>NaN</td>\n",
       "      <td>NaN</td>\n",
       "      <td>NaN</td>\n",
       "      <td>NaN</td>\n",
       "    </tr>\n",
       "    <tr>\n",
       "      <th>1998-01-07</th>\n",
       "      <td>0.979397</td>\n",
       "      <td>1.079612</td>\n",
       "      <td>0.975181</td>\n",
       "      <td>0.925972</td>\n",
       "      <td>1.022603</td>\n",
       "      <td>0.955385</td>\n",
       "      <td>0.996621</td>\n",
       "      <td>1.078176</td>\n",
       "      <td>1.072848</td>\n",
       "      <td>1.074837</td>\n",
       "      <td>...</td>\n",
       "      <td>NaN</td>\n",
       "      <td>NaN</td>\n",
       "      <td>NaN</td>\n",
       "      <td>NaN</td>\n",
       "      <td>NaN</td>\n",
       "      <td>NaN</td>\n",
       "      <td>NaN</td>\n",
       "      <td>NaN</td>\n",
       "      <td>NaN</td>\n",
       "      <td>NaN</td>\n",
       "    </tr>\n",
       "    <tr>\n",
       "      <th>1998-01-08</th>\n",
       "      <td>0.979030</td>\n",
       "      <td>1.078237</td>\n",
       "      <td>0.952735</td>\n",
       "      <td>1.000000</td>\n",
       "      <td>1.076982</td>\n",
       "      <td>1.043478</td>\n",
       "      <td>1.061822</td>\n",
       "      <td>1.078550</td>\n",
       "      <td>1.018519</td>\n",
       "      <td>1.022196</td>\n",
       "      <td>...</td>\n",
       "      <td>NaN</td>\n",
       "      <td>NaN</td>\n",
       "      <td>NaN</td>\n",
       "      <td>NaN</td>\n",
       "      <td>NaN</td>\n",
       "      <td>NaN</td>\n",
       "      <td>NaN</td>\n",
       "      <td>NaN</td>\n",
       "      <td>NaN</td>\n",
       "      <td>NaN</td>\n",
       "    </tr>\n",
       "  </tbody>\n",
       "</table>\n",
       "<p>5 rows × 1192 columns</p>\n",
       "</div>"
      ],
      "text/plain": [
       "             A000010   A000020   A000030   A000040   A000050   A000060  \\\n",
       "D A T E                                                                  \n",
       "1998-01-03  1.028922  0.920833  1.017419  0.923055  1.000000  1.079723   \n",
       "1998-01-05  0.983134  1.079186  0.993152  0.925972  1.035088  1.043339   \n",
       "1998-01-06  0.971409  1.079665  0.972418  1.079947  0.988444  1.000000   \n",
       "1998-01-07  0.979397  1.079612  0.975181  0.925972  1.022603  0.955385   \n",
       "1998-01-08  0.979030  1.078237  0.952735  1.000000  1.076982  1.043478   \n",
       "\n",
       "             A000070   A000080   A000090   A000100   ...     A298050  A298690  \\\n",
       "D A T E                                              ...                        \n",
       "1998-01-03  1.078918  1.077551  0.938628  1.076553   ...         NaN      NaN   \n",
       "1998-01-05  1.079580  1.079545  1.076923  1.079086   ...         NaN      NaN   \n",
       "1998-01-06  1.079917  1.077193  1.078571  1.076895   ...         NaN      NaN   \n",
       "1998-01-07  0.996621  1.078176  1.072848  1.074837   ...         NaN      NaN   \n",
       "1998-01-08  1.061822  1.078550  1.018519  1.022196   ...         NaN      NaN   \n",
       "\n",
       "            A300720  A306200  A900030  A900050  A900140  A950010  A950070  \\\n",
       "D A T E                                                                     \n",
       "1998-01-03      NaN      NaN      NaN      NaN      NaN      NaN      NaN   \n",
       "1998-01-05      NaN      NaN      NaN      NaN      NaN      NaN      NaN   \n",
       "1998-01-06      NaN      NaN      NaN      NaN      NaN      NaN      NaN   \n",
       "1998-01-07      NaN      NaN      NaN      NaN      NaN      NaN      NaN   \n",
       "1998-01-08      NaN      NaN      NaN      NaN      NaN      NaN      NaN   \n",
       "\n",
       "            A950100  \n",
       "D A T E              \n",
       "1998-01-03      NaN  \n",
       "1998-01-05      NaN  \n",
       "1998-01-06      NaN  \n",
       "1998-01-07      NaN  \n",
       "1998-01-08      NaN  \n",
       "\n",
       "[5 rows x 1192 columns]"
      ]
     },
     "execution_count": 29,
     "metadata": {},
     "output_type": "execute_result"
    }
   ],
   "source": [
    "kse_rt.head()"
   ]
  },
  {
   "cell_type": "code",
   "execution_count": 11,
   "metadata": {},
   "outputs": [
    {
     "data": {
      "text/html": [
       "<div>\n",
       "<style scoped>\n",
       "    .dataframe tbody tr th:only-of-type {\n",
       "        vertical-align: middle;\n",
       "    }\n",
       "\n",
       "    .dataframe tbody tr th {\n",
       "        vertical-align: top;\n",
       "    }\n",
       "\n",
       "    .dataframe thead th {\n",
       "        text-align: right;\n",
       "    }\n",
       "</style>\n",
       "<table border=\"1\" class=\"dataframe\">\n",
       "  <thead>\n",
       "    <tr style=\"text-align: right;\">\n",
       "      <th></th>\n",
       "      <th>A000250</th>\n",
       "      <th>A000380</th>\n",
       "      <th>A000440</th>\n",
       "      <th>A000530</th>\n",
       "      <th>A000550</th>\n",
       "      <th>A000600</th>\n",
       "      <th>A000870</th>\n",
       "      <th>A001000</th>\n",
       "      <th>A001540</th>\n",
       "      <th>A001810</th>\n",
       "      <th>...</th>\n",
       "      <th>A900290</th>\n",
       "      <th>A900300</th>\n",
       "      <th>A900310</th>\n",
       "      <th>A900340</th>\n",
       "      <th>A950030</th>\n",
       "      <th>A950110</th>\n",
       "      <th>A950130</th>\n",
       "      <th>A950140</th>\n",
       "      <th>A950160</th>\n",
       "      <th>A950170</th>\n",
       "    </tr>\n",
       "    <tr>\n",
       "      <th>D A T E</th>\n",
       "      <th></th>\n",
       "      <th></th>\n",
       "      <th></th>\n",
       "      <th></th>\n",
       "      <th></th>\n",
       "      <th></th>\n",
       "      <th></th>\n",
       "      <th></th>\n",
       "      <th></th>\n",
       "      <th></th>\n",
       "      <th></th>\n",
       "      <th></th>\n",
       "      <th></th>\n",
       "      <th></th>\n",
       "      <th></th>\n",
       "      <th></th>\n",
       "      <th></th>\n",
       "      <th></th>\n",
       "      <th></th>\n",
       "      <th></th>\n",
       "      <th></th>\n",
       "    </tr>\n",
       "  </thead>\n",
       "  <tbody>\n",
       "    <tr>\n",
       "      <th>1998-01-03</th>\n",
       "      <td>NaN</td>\n",
       "      <td>1.079573</td>\n",
       "      <td>1.0</td>\n",
       "      <td>NaN</td>\n",
       "      <td>NaN</td>\n",
       "      <td>NaN</td>\n",
       "      <td>1.080000</td>\n",
       "      <td>1.0</td>\n",
       "      <td>NaN</td>\n",
       "      <td>NaN</td>\n",
       "      <td>...</td>\n",
       "      <td>NaN</td>\n",
       "      <td>NaN</td>\n",
       "      <td>NaN</td>\n",
       "      <td>NaN</td>\n",
       "      <td>NaN</td>\n",
       "      <td>NaN</td>\n",
       "      <td>NaN</td>\n",
       "      <td>NaN</td>\n",
       "      <td>NaN</td>\n",
       "      <td>NaN</td>\n",
       "    </tr>\n",
       "    <tr>\n",
       "      <th>1998-01-05</th>\n",
       "      <td>NaN</td>\n",
       "      <td>1.000000</td>\n",
       "      <td>1.0</td>\n",
       "      <td>NaN</td>\n",
       "      <td>NaN</td>\n",
       "      <td>NaN</td>\n",
       "      <td>1.077160</td>\n",
       "      <td>1.0</td>\n",
       "      <td>NaN</td>\n",
       "      <td>NaN</td>\n",
       "      <td>...</td>\n",
       "      <td>NaN</td>\n",
       "      <td>NaN</td>\n",
       "      <td>NaN</td>\n",
       "      <td>NaN</td>\n",
       "      <td>NaN</td>\n",
       "      <td>NaN</td>\n",
       "      <td>NaN</td>\n",
       "      <td>NaN</td>\n",
       "      <td>NaN</td>\n",
       "      <td>NaN</td>\n",
       "    </tr>\n",
       "    <tr>\n",
       "      <th>1998-01-06</th>\n",
       "      <td>NaN</td>\n",
       "      <td>1.000000</td>\n",
       "      <td>1.0</td>\n",
       "      <td>NaN</td>\n",
       "      <td>NaN</td>\n",
       "      <td>NaN</td>\n",
       "      <td>1.077364</td>\n",
       "      <td>1.0</td>\n",
       "      <td>NaN</td>\n",
       "      <td>NaN</td>\n",
       "      <td>...</td>\n",
       "      <td>NaN</td>\n",
       "      <td>NaN</td>\n",
       "      <td>NaN</td>\n",
       "      <td>NaN</td>\n",
       "      <td>NaN</td>\n",
       "      <td>NaN</td>\n",
       "      <td>NaN</td>\n",
       "      <td>NaN</td>\n",
       "      <td>NaN</td>\n",
       "      <td>NaN</td>\n",
       "    </tr>\n",
       "    <tr>\n",
       "      <th>1998-01-07</th>\n",
       "      <td>NaN</td>\n",
       "      <td>1.000000</td>\n",
       "      <td>1.0</td>\n",
       "      <td>NaN</td>\n",
       "      <td>NaN</td>\n",
       "      <td>NaN</td>\n",
       "      <td>1.079787</td>\n",
       "      <td>1.0</td>\n",
       "      <td>NaN</td>\n",
       "      <td>NaN</td>\n",
       "      <td>...</td>\n",
       "      <td>NaN</td>\n",
       "      <td>NaN</td>\n",
       "      <td>NaN</td>\n",
       "      <td>NaN</td>\n",
       "      <td>NaN</td>\n",
       "      <td>NaN</td>\n",
       "      <td>NaN</td>\n",
       "      <td>NaN</td>\n",
       "      <td>NaN</td>\n",
       "      <td>NaN</td>\n",
       "    </tr>\n",
       "    <tr>\n",
       "      <th>1998-01-08</th>\n",
       "      <td>NaN</td>\n",
       "      <td>1.000000</td>\n",
       "      <td>1.0</td>\n",
       "      <td>NaN</td>\n",
       "      <td>NaN</td>\n",
       "      <td>NaN</td>\n",
       "      <td>1.078818</td>\n",
       "      <td>1.0</td>\n",
       "      <td>NaN</td>\n",
       "      <td>NaN</td>\n",
       "      <td>...</td>\n",
       "      <td>NaN</td>\n",
       "      <td>NaN</td>\n",
       "      <td>NaN</td>\n",
       "      <td>NaN</td>\n",
       "      <td>NaN</td>\n",
       "      <td>NaN</td>\n",
       "      <td>NaN</td>\n",
       "      <td>NaN</td>\n",
       "      <td>NaN</td>\n",
       "      <td>NaN</td>\n",
       "    </tr>\n",
       "  </tbody>\n",
       "</table>\n",
       "<p>5 rows × 1913 columns</p>\n",
       "</div>"
      ],
      "text/plain": [
       "            A000250   A000380  A000440  A000530  A000550  A000600   A000870  \\\n",
       "D A T E                                                                       \n",
       "1998-01-03      NaN  1.079573      1.0      NaN      NaN      NaN  1.080000   \n",
       "1998-01-05      NaN  1.000000      1.0      NaN      NaN      NaN  1.077160   \n",
       "1998-01-06      NaN  1.000000      1.0      NaN      NaN      NaN  1.077364   \n",
       "1998-01-07      NaN  1.000000      1.0      NaN      NaN      NaN  1.079787   \n",
       "1998-01-08      NaN  1.000000      1.0      NaN      NaN      NaN  1.078818   \n",
       "\n",
       "            A001000  A001540  A001810   ...     A900290  A900300  A900310  \\\n",
       "D A T E                                 ...                                 \n",
       "1998-01-03      1.0      NaN      NaN   ...         NaN      NaN      NaN   \n",
       "1998-01-05      1.0      NaN      NaN   ...         NaN      NaN      NaN   \n",
       "1998-01-06      1.0      NaN      NaN   ...         NaN      NaN      NaN   \n",
       "1998-01-07      1.0      NaN      NaN   ...         NaN      NaN      NaN   \n",
       "1998-01-08      1.0      NaN      NaN   ...         NaN      NaN      NaN   \n",
       "\n",
       "            A900340  A950030  A950110  A950130  A950140  A950160  A950170  \n",
       "D A T E                                                                    \n",
       "1998-01-03      NaN      NaN      NaN      NaN      NaN      NaN      NaN  \n",
       "1998-01-05      NaN      NaN      NaN      NaN      NaN      NaN      NaN  \n",
       "1998-01-06      NaN      NaN      NaN      NaN      NaN      NaN      NaN  \n",
       "1998-01-07      NaN      NaN      NaN      NaN      NaN      NaN      NaN  \n",
       "1998-01-08      NaN      NaN      NaN      NaN      NaN      NaN      NaN  \n",
       "\n",
       "[5 rows x 1913 columns]"
      ]
     },
     "execution_count": 11,
     "metadata": {},
     "output_type": "execute_result"
    }
   ],
   "source": [
    "kdq_rt.head()"
   ]
  },
  {
   "cell_type": "markdown",
   "metadata": {},
   "source": [
    "## Resampled Return\n",
    "\n",
    "### 1. Calculating Return\n",
    "### 2. Filter \n",
    "     -- return < 0 among those less than average"
   ]
  },
  {
   "cell_type": "code",
   "execution_count": 85,
   "metadata": {},
   "outputs": [],
   "source": [
    "def n_filter(data, period):\n",
    "    \n",
    "    ## 1. Calculating Monthly Return\n",
    "    ret = data.resample(period).prod()\n",
    "    ## 2. 떨어진 주식 고르기\n",
    "    ret_filter = ret[ret < 1]\n",
    "    loss_ret_mean = ret_filter.mean(axis=1)\n",
    "    \n",
    "    return ret_filter.sub(loss_ret_mean, axis = 0) < 0"
   ]
  },
  {
   "cell_type": "code",
   "execution_count": 86,
   "metadata": {},
   "outputs": [],
   "source": [
    "KOSPI_down_rt = n_filter(kse_rt, 'M')\n",
    "KOSDQ_down_rt = n_filter(kdq_rt, 'M')"
   ]
  },
  {
   "cell_type": "code",
   "execution_count": 87,
   "metadata": {},
   "outputs": [],
   "source": [
    "from FileOpener.backtester import FinancialBacktest, PfAnalysis"
   ]
  },
  {
   "cell_type": "code",
   "execution_count": 88,
   "metadata": {},
   "outputs": [],
   "source": [
    "KOPSI_BACK_RT = FinancialBacktest(kse_price).backtest(KOSPI_down_rt, 'M','M')\n",
    "KOPDAQ_BACK_RT = FinancialBacktest(kdq_price).backtest(KOSDQ_down_rt, 'M','M')"
   ]
  },
  {
   "cell_type": "code",
   "execution_count": 89,
   "metadata": {},
   "outputs": [],
   "source": [
    "pf_KOPSI = PfAnalysis(KOPSI_BACK_RT)\n",
    "pf_KODAQ = PfAnalysis(KOPDAQ_BACK_RT)"
   ]
  },
  {
   "cell_type": "code",
   "execution_count": 90,
   "metadata": {},
   "outputs": [
    {
     "data": {
      "text/plain": [
       "(DatetimeIndex(['1998-01-31', '1998-02-28', '1998-03-31', '1998-04-30',\n",
       "                '1998-05-31', '1998-06-30', '1998-07-31', '1998-08-31',\n",
       "                '1998-09-30', '1998-10-31',\n",
       "                ...\n",
       "                '2018-03-31', '2018-04-30', '2018-05-31', '2018-06-30',\n",
       "                '2018-07-31', '2018-08-31', '2018-09-30', '2018-10-31',\n",
       "                '2018-11-30', '2018-12-31'],\n",
       "               dtype='datetime64[ns]', length=252, freq='M'),\n",
       " DatetimeIndex(['1998-02-01', '1998-03-01', '1998-04-01', '1998-05-01',\n",
       "                '1998-06-01', '1998-07-01', '1998-08-01', '1998-09-01',\n",
       "                '1998-10-01', '1998-11-01',\n",
       "                ...\n",
       "                '2018-04-01', '2018-05-01', '2018-06-01', '2018-07-01',\n",
       "                '2018-08-01', '2018-09-01', '2018-10-01', '2018-11-01',\n",
       "                '2018-12-01', '2019-01-01'],\n",
       "               dtype='datetime64[ns]', length=252, freq='MS'),\n",
       " DatetimeIndex(['1998-02-28', '1998-03-31', '1998-04-30', '1998-05-31',\n",
       "                '1998-06-30', '1998-07-31', '1998-08-31', '1998-09-30',\n",
       "                '1998-10-31', '1998-11-30',\n",
       "                ...\n",
       "                '2018-04-30', '2018-05-31', '2018-06-30', '2018-07-31',\n",
       "                '2018-08-31', '2018-09-30', '2018-10-31', '2018-11-30',\n",
       "                '2018-12-31', '2019-01-31'],\n",
       "               dtype='datetime64[ns]', length=252, freq='M'))"
      ]
     },
     "execution_count": 90,
     "metadata": {},
     "output_type": "execute_result"
    }
   ],
   "source": [
    "FinancialBacktest(kse_price).back_date(KOSPI_down_rt, 'M')"
   ]
  },
  {
   "cell_type": "code",
   "execution_count": 91,
   "metadata": {
    "scrolled": true
   },
   "outputs": [
    {
     "data": {
      "text/plain": [
       "<matplotlib.axes._subplots.AxesSubplot at 0x28c02730828>"
      ]
     },
     "execution_count": 91,
     "metadata": {},
     "output_type": "execute_result"
    },
    {
     "data": {
      "image/png": "[encoded data removed]",
      "text/plain": [
       "<Figure size 432x288 with 1 Axes>"
      ]
     },
     "metadata": {},
     "output_type": "display_data"
    }
   ],
   "source": [
    "pf_KOPSI.cumReturn().plot()"
   ]
  },
  {
   "cell_type": "code",
   "execution_count": 92,
   "metadata": {
    "scrolled": true
   },
   "outputs": [
    {
     "data": {
      "text/plain": [
       "<matplotlib.axes._subplots.AxesSubplot at 0x28c044a9f98>"
      ]
     },
     "execution_count": 92,
     "metadata": {},
     "output_type": "execute_result"
    },
    {
     "data": {
      "image/png": "[encoded data removed]",
      "text/plain": [
       "<Figure size 432x288 with 1 Axes>"
      ]
     },
     "metadata": {},
     "output_type": "display_data"
    }
   ],
   "source": [
    "pf_KODAQ.cumReturn().plot()"
   ]
  },
  {
   "cell_type": "code",
   "execution_count": 93,
   "metadata": {
    "scrolled": true
   },
   "outputs": [
    {
     "name": "stdout",
     "output_type": "stream",
     "text": [
      "Total Return for KOSPI: 356.7%\n",
      "Total Return for KOSDAQ: 485.68%\n"
     ]
    }
   ],
   "source": [
    "print(f\"Total Return for KOSPI: {round(pf_KOPSI.totalReturn() * 100, 2)}%\")\n",
    "print(f\"Total Return for KOSDAQ: {round(pf_KODAQ.totalReturn() * 100, 2)}%\")"
   ]
  },
  {
   "cell_type": "code",
   "execution_count": 94,
   "metadata": {},
   "outputs": [
    {
     "name": "stdout",
     "output_type": "stream",
     "text": [
      "CAGR for KOSPI: 7.53%\n",
      "CAGR for KOSDAQ: 8.82%\n"
     ]
    }
   ],
   "source": [
    "print(f\"CAGR for KOSPI: {round(pf_KOPSI.cagr() * 100, 2)}%\")\n",
    "print(f\"CAGR for KOSDAQ: {round(pf_KODAQ.cagr() * 100, 2)}%\")"
   ]
  },
  {
   "cell_type": "code",
   "execution_count": 95,
   "metadata": {
    "scrolled": false
   },
   "outputs": [
    {
     "name": "stdout",
     "output_type": "stream",
     "text": [
      "Maximum DrawDown for KOSPI: 60.59%\n",
      "Maximum DrawDown for KOSDAQ: 68.23%\n"
     ]
    }
   ],
   "source": [
    "print(f\"Maximum DrawDown for KOSPI: {round(abs(pf_KOPSI.maxDrawDown()) * 100, 2)}%\")\n",
    "print(f\"Maximum DrawDown for KOSDAQ: {round(abs(pf_KODAQ.maxDrawDown()) * 100, 2)}%\")"
   ]
  },
  {
   "cell_type": "code",
   "execution_count": 96,
   "metadata": {},
   "outputs": [],
   "source": [
    "KOSPI_down_rt = n_filter(kse_rt, 'Q')\n",
    "KOSDQ_down_rt = n_filter(kdq_rt, 'Q')\n",
    "\n",
    "from FileOpener.backtester import FinancialBacktest, PfAnalysis\n",
    "\n",
    "KOPSI_Q_BACK_RT = FinancialBacktest(kse_price).backtest(KOSPI_down_rt, 'Q','Q')\n",
    "KOPDAQ_Q_BACK_RT = FinancialBacktest(kdq_price).backtest(KOSDQ_down_rt, 'Q','Q')\n",
    "\n",
    "pf_Q_KOPSI = PfAnalysis(KOPSI_Q_BACK_RT)\n",
    "pf_Q_KODAQ = PfAnalysis(KOPDAQ_Q_BACK_RT)"
   ]
  },
  {
   "cell_type": "code",
   "execution_count": 103,
   "metadata": {},
   "outputs": [
    {
     "data": {
      "text/plain": [
       "<matplotlib.axes._subplots.AxesSubplot at 0x28c02bb8b38>"
      ]
     },
     "execution_count": 103,
     "metadata": {},
     "output_type": "execute_result"
    },
    {
     "data": {
      "image/png": "[encoded data removed]",
      "text/plain": [
       "<Figure size 432x288 with 1 Axes>"
      ]
     },
     "metadata": {},
     "output_type": "display_data"
    }
   ],
   "source": [
    "pf_Q_KOPSI.cumReturn().plot()"
   ]
  },
  {
   "cell_type": "code",
   "execution_count": 104,
   "metadata": {},
   "outputs": [
    {
     "data": {
      "text/plain": [
       "<matplotlib.axes._subplots.AxesSubplot at 0x28c02bbabe0>"
      ]
     },
     "execution_count": 104,
     "metadata": {},
     "output_type": "execute_result"
    },
    {
     "data": {
      "image/png": "[encoded data removed]",
      "text/plain": [
       "<Figure size 432x288 with 1 Axes>"
      ]
     },
     "metadata": {},
     "output_type": "display_data"
    }
   ],
   "source": [
    "pf_Q_KODAQ.cumReturn().plot()"
   ]
  },
  {
   "cell_type": "code",
   "execution_count": 97,
   "metadata": {},
   "outputs": [
    {
     "name": "stdout",
     "output_type": "stream",
     "text": [
      "Total Return for KOSPI: 262.54%\n",
      "Total Return for KOSDAQ: 58.19%\n"
     ]
    }
   ],
   "source": [
    "print(f\"Total Return for KOSPI: {round(pf_Q_KOPSI.totalReturn() * 100, 2)}%\")\n",
    "print(f\"Total Return for KOSDAQ: {round(pf_Q_KODAQ.totalReturn() * 100, 2)}%\")"
   ]
  },
  {
   "cell_type": "code",
   "execution_count": 98,
   "metadata": {},
   "outputs": [
    {
     "name": "stdout",
     "output_type": "stream",
     "text": [
      "CAGR for KOSPI: 6.4%\n",
      "CAGR for KOSDAQ: 2.23%\n"
     ]
    }
   ],
   "source": [
    "print(f\"CAGR for KOSPI: {round(pf_Q_KOPSI.cagr() * 100, 2)}%\")\n",
    "print(f\"CAGR for KOSDAQ: {round(pf_Q_KODAQ.cagr() * 100, 2)}%\")"
   ]
  },
  {
   "cell_type": "code",
   "execution_count": 99,
   "metadata": {},
   "outputs": [
    {
     "name": "stdout",
     "output_type": "stream",
     "text": [
      "Maximum DrawDown for KOSPI: 65.0%\n",
      "Maximum DrawDown for KOSDAQ: 72.9%\n"
     ]
    }
   ],
   "source": [
    "print(f\"Maximum DrawDown for KOSPI: {round(abs(pf_Q_KOPSI.maxDrawDown()) * 100, 2)}%\")\n",
    "print(f\"Maximum DrawDown for KOSDAQ: {round(abs(pf_Q_KODAQ.maxDrawDown()) * 100, 2)}%\")"
   ]
  },
  {
   "cell_type": "code",
   "execution_count": 108,
   "metadata": {},
   "outputs": [
    {
     "data": {
      "text/plain": [
       "(DatetimeIndex(['1998-03-31', '1998-06-30', '1998-09-30', '1998-12-31',\n",
       "                '1999-03-31', '1999-06-30', '1999-09-30', '1999-12-31',\n",
       "                '2000-03-31', '2000-06-30', '2000-09-30', '2000-12-31',\n",
       "                '2001-03-31', '2001-06-30', '2001-09-30', '2001-12-31',\n",
       "                '2002-03-31', '2002-06-30', '2002-09-30', '2002-12-31',\n",
       "                '2003-03-31', '2003-06-30', '2003-09-30', '2003-12-31',\n",
       "                '2004-03-31', '2004-06-30', '2004-09-30', '2004-12-31',\n",
       "                '2005-03-31', '2005-06-30', '2005-09-30', '2005-12-31',\n",
       "                '2006-03-31', '2006-06-30', '2006-09-30', '2006-12-31',\n",
       "                '2007-03-31', '2007-06-30', '2007-09-30', '2007-12-31',\n",
       "                '2008-03-31', '2008-06-30', '2008-09-30', '2008-12-31',\n",
       "                '2009-03-31', '2009-06-30', '2009-09-30', '2009-12-31',\n",
       "                '2010-03-31', '2010-06-30', '2010-09-30', '2010-12-31',\n",
       "                '2011-03-31', '2011-06-30', '2011-09-30', '2011-12-31',\n",
       "                '2012-03-31', '2012-06-30', '2012-09-30', '2012-12-31',\n",
       "                '2013-03-31', '2013-06-30', '2013-09-30', '2013-12-31',\n",
       "                '2014-03-31', '2014-06-30', '2014-09-30', '2014-12-31',\n",
       "                '2015-03-31', '2015-06-30', '2015-09-30', '2015-12-31',\n",
       "                '2016-03-31', '2016-06-30', '2016-09-30', '2016-12-31',\n",
       "                '2017-03-31', '2017-06-30', '2017-09-30', '2017-12-31',\n",
       "                '2018-03-31', '2018-06-30', '2018-09-30', '2018-12-31'],\n",
       "               dtype='datetime64[ns]', freq='Q-DEC'),\n",
       " DatetimeIndex(['1998-04-01', '1998-07-01', '1998-10-01', '1999-01-01',\n",
       "                '1999-04-01', '1999-07-01', '1999-10-01', '2000-01-01',\n",
       "                '2000-04-01', '2000-07-01', '2000-10-01', '2001-01-01',\n",
       "                '2001-04-01', '2001-07-01', '2001-10-01', '2002-01-01',\n",
       "                '2002-04-01', '2002-07-01', '2002-10-01', '2003-01-01',\n",
       "                '2003-04-01', '2003-07-01', '2003-10-01', '2004-01-01',\n",
       "                '2004-04-01', '2004-07-01', '2004-10-01', '2005-01-01',\n",
       "                '2005-04-01', '2005-07-01', '2005-10-01', '2006-01-01',\n",
       "                '2006-04-01', '2006-07-01', '2006-10-01', '2007-01-01',\n",
       "                '2007-04-01', '2007-07-01', '2007-10-01', '2008-01-01',\n",
       "                '2008-04-01', '2008-07-01', '2008-10-01', '2009-01-01',\n",
       "                '2009-04-01', '2009-07-01', '2009-10-01', '2010-01-01',\n",
       "                '2010-04-01', '2010-07-01', '2010-10-01', '2011-01-01',\n",
       "                '2011-04-01', '2011-07-01', '2011-10-01', '2012-01-01',\n",
       "                '2012-04-01', '2012-07-01', '2012-10-01', '2013-01-01',\n",
       "                '2013-04-01', '2013-07-01', '2013-10-01', '2014-01-01',\n",
       "                '2014-04-01', '2014-07-01', '2014-10-01', '2015-01-01',\n",
       "                '2015-04-01', '2015-07-01', '2015-10-01', '2016-01-01',\n",
       "                '2016-04-01', '2016-07-01', '2016-10-01', '2017-01-01',\n",
       "                '2017-04-01', '2017-07-01', '2017-10-01', '2018-01-01',\n",
       "                '2018-04-01', '2018-07-01', '2018-10-01'],\n",
       "               dtype='datetime64[ns]', freq='QS-OCT'),\n",
       " DatetimeIndex(['1998-06-30', '1998-09-30', '1998-12-31', '1999-03-31',\n",
       "                '1999-06-30', '1999-09-30', '1999-12-31', '2000-03-31',\n",
       "                '2000-06-30', '2000-09-30', '2000-12-31', '2001-03-31',\n",
       "                '2001-06-30', '2001-09-30', '2001-12-31', '2002-03-31',\n",
       "                '2002-06-30', '2002-09-30', '2002-12-31', '2003-03-31',\n",
       "                '2003-06-30', '2003-09-30', '2003-12-31', '2004-03-31',\n",
       "                '2004-06-30', '2004-09-30', '2004-12-31', '2005-03-31',\n",
       "                '2005-06-30', '2005-09-30', '2005-12-31', '2006-03-31',\n",
       "                '2006-06-30', '2006-09-30', '2006-12-31', '2007-03-31',\n",
       "                '2007-06-30', '2007-09-30', '2007-12-31', '2008-03-31',\n",
       "                '2008-06-30', '2008-09-30', '2008-12-31', '2009-03-31',\n",
       "                '2009-06-30', '2009-09-30', '2009-12-31', '2010-03-31',\n",
       "                '2010-06-30', '2010-09-30', '2010-12-31', '2011-03-31',\n",
       "                '2011-06-30', '2011-09-30', '2011-12-31', '2012-03-31',\n",
       "                '2012-06-30', '2012-09-30', '2012-12-31', '2013-03-31',\n",
       "                '2013-06-30', '2013-09-30', '2013-12-31', '2014-03-31',\n",
       "                '2014-06-30', '2014-09-30', '2014-12-31', '2015-03-31',\n",
       "                '2015-06-30', '2015-09-30', '2015-12-31', '2016-03-31',\n",
       "                '2016-06-30', '2016-09-30', '2016-12-31', '2017-03-31',\n",
       "                '2017-06-30', '2017-09-30', '2017-12-31', '2018-03-31',\n",
       "                '2018-06-30', '2018-09-30', '2018-12-31'],\n",
       "               dtype='datetime64[ns]', freq='Q-DEC'))"
      ]
     },
     "execution_count": 108,
     "metadata": {},
     "output_type": "execute_result"
    }
   ],
   "source": [
    "FinancialBacktest(kse_price).back_date(KOSPI_down_rt, 'Q')"
   ]
  },
  {
   "cell_type": "code",
   "execution_count": null,
   "metadata": {},
   "outputs": [],
   "source": []
  }
 ],
 "metadata": {
  "kernelspec": {
   "display_name": "Python 3",
   "language": "python",
   "name": "python3"
  },
  "language_info": {
   "codemirror_mode": {
    "name": "ipython",
    "version": 3
   },
   "file_extension": ".py",
   "mimetype": "text/x-python",
   "name": "python",
   "nbconvert_exporter": "python",
   "pygments_lexer": "ipython3",
   "version": "3.6.5"
  }
 },
 "nbformat": 4,
 "nbformat_minor": 2
}
